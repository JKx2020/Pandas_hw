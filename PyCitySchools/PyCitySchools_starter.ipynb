{
 "cells": [
  {
   "cell_type": "markdown",
   "metadata": {},
   "source": [
    "### Note\n",
    "* Instructions have been included for each segment. You do not have to follow them exactly, but they are included to help you think through the steps."
   ]
  },
  {
   "cell_type": "code",
   "execution_count": 485,
   "metadata": {},
   "outputs": [
    {
     "data": {
      "text/html": "<div>\n<style scoped>\n    .dataframe tbody tr th:only-of-type {\n        vertical-align: middle;\n    }\n\n    .dataframe tbody tr th {\n        vertical-align: top;\n    }\n\n    .dataframe thead th {\n        text-align: right;\n    }\n</style>\n<table border=\"1\" class=\"dataframe\">\n  <thead>\n    <tr style=\"text-align: right;\">\n      <th></th>\n      <th>Student ID</th>\n      <th>student_name</th>\n      <th>gender</th>\n      <th>grade</th>\n      <th>school_name</th>\n      <th>reading_score</th>\n      <th>math_score</th>\n      <th>School ID</th>\n      <th>type</th>\n      <th>size</th>\n      <th>budget</th>\n    </tr>\n  </thead>\n  <tbody>\n    <tr>\n      <td>0</td>\n      <td>0</td>\n      <td>Paul Bradley</td>\n      <td>M</td>\n      <td>9th</td>\n      <td>Huang High School</td>\n      <td>66</td>\n      <td>79</td>\n      <td>0</td>\n      <td>District</td>\n      <td>2917</td>\n      <td>1910635</td>\n    </tr>\n    <tr>\n      <td>1</td>\n      <td>1</td>\n      <td>Victor Smith</td>\n      <td>M</td>\n      <td>12th</td>\n      <td>Huang High School</td>\n      <td>94</td>\n      <td>61</td>\n      <td>0</td>\n      <td>District</td>\n      <td>2917</td>\n      <td>1910635</td>\n    </tr>\n    <tr>\n      <td>2</td>\n      <td>2</td>\n      <td>Kevin Rodriguez</td>\n      <td>M</td>\n      <td>12th</td>\n      <td>Huang High School</td>\n      <td>90</td>\n      <td>60</td>\n      <td>0</td>\n      <td>District</td>\n      <td>2917</td>\n      <td>1910635</td>\n    </tr>\n    <tr>\n      <td>3</td>\n      <td>3</td>\n      <td>Dr. Richard Scott</td>\n      <td>M</td>\n      <td>12th</td>\n      <td>Huang High School</td>\n      <td>67</td>\n      <td>58</td>\n      <td>0</td>\n      <td>District</td>\n      <td>2917</td>\n      <td>1910635</td>\n    </tr>\n    <tr>\n      <td>4</td>\n      <td>4</td>\n      <td>Bonnie Ray</td>\n      <td>F</td>\n      <td>9th</td>\n      <td>Huang High School</td>\n      <td>97</td>\n      <td>84</td>\n      <td>0</td>\n      <td>District</td>\n      <td>2917</td>\n      <td>1910635</td>\n    </tr>\n  </tbody>\n</table>\n</div>",
      "text/plain": "   Student ID       student_name gender grade        school_name  \\\n0           0       Paul Bradley      M   9th  Huang High School   \n1           1       Victor Smith      M  12th  Huang High School   \n2           2    Kevin Rodriguez      M  12th  Huang High School   \n3           3  Dr. Richard Scott      M  12th  Huang High School   \n4           4         Bonnie Ray      F   9th  Huang High School   \n\n   reading_score  math_score  School ID      type  size   budget  \n0             66          79          0  District  2917  1910635  \n1             94          61          0  District  2917  1910635  \n2             90          60          0  District  2917  1910635  \n3             67          58          0  District  2917  1910635  \n4             97          84          0  District  2917  1910635  "
     },
     "execution_count": 485,
     "metadata": {},
     "output_type": "execute_result"
    }
   ],
   "source": [
    "# Dependencies and Setup\n",
    "import pandas as pd\n",
    "import numpy as np\n",
    "\n",
    "# File to Load (Remember to Change These)\n",
    "school_data_to_load = \"Resources/schools_complete.csv\"\n",
    "student_data_to_load = \"Resources/students_complete.csv\"\n",
    "\n",
    "# Read School and Student Data File and store into Pandas Data Frames\n",
    "school_data = pd.read_csv(school_data_to_load)\n",
    "student_data = pd.read_csv(student_data_to_load)\n",
    "\n",
    "# Combine the data into a single dataset\n",
    "school_data_complete = pd.merge(student_data, school_data, how=\"left\", on=[\"school_name\", \"school_name\"])\n",
    "\n",
    "school_data_complete.head(5)"
   ]
  },
  {
   "cell_type": "code",
   "execution_count": 486,
   "metadata": {},
   "outputs": [
    {
     "data": {
      "text/plain": "15"
     },
     "execution_count": 486,
     "metadata": {},
     "output_type": "execute_result"
    }
   ],
   "source": [
    "#calculate the total number of schools\n",
    "schools = school_data_complete[\"school_name\"].unique()\n",
    "totalschools = len(schools)\n",
    "totalschools"
   ]
  },
  {
   "cell_type": "code",
   "execution_count": 487,
   "metadata": {},
   "outputs": [
    {
     "data": {
      "text/plain": "39170"
     },
     "execution_count": 487,
     "metadata": {},
     "output_type": "execute_result"
    }
   ],
   "source": [
    "#calculate the total number of students\n",
    "totalstudents = len(school_data_complete[\"student_name\"])\n",
    "totalstudents\n"
   ]
  },
  {
   "cell_type": "code",
   "execution_count": 488,
   "metadata": {},
   "outputs": [
    {
     "data": {
      "text/plain": "24649428"
     },
     "execution_count": 488,
     "metadata": {},
     "output_type": "execute_result"
    }
   ],
   "source": [
    "#calculate the total budget\n",
    "totalbudget = school_data[\"budget\"].sum()\n",
    "totalbudget"
   ]
  },
  {
   "cell_type": "code",
   "execution_count": 489,
   "metadata": {},
   "outputs": [
    {
     "data": {
      "text/plain": "78.98537145774827"
     },
     "execution_count": 489,
     "metadata": {},
     "output_type": "execute_result"
    }
   ],
   "source": [
    "#calculate average math score\n",
    "avgmathscore = school_data_complete[\"math_score\"].mean()\n",
    "avgmathscore"
   ]
  },
  {
   "cell_type": "code",
   "execution_count": 490,
   "metadata": {},
   "outputs": [
    {
     "data": {
      "text/plain": "81.87784018381414"
     },
     "execution_count": 490,
     "metadata": {},
     "output_type": "execute_result"
    }
   ],
   "source": [
    "#calculate average reading score\n",
    "avgreadingscore = school_data_complete[\"reading_score\"].mean()\n",
    "avgreadingscore"
   ]
  },
  {
   "cell_type": "code",
   "execution_count": 491,
   "metadata": {},
   "outputs": [
    {
     "data": {
      "text/plain": "80.43160582078121"
     },
     "execution_count": 491,
     "metadata": {},
     "output_type": "execute_result"
    }
   ],
   "source": [
    "#calculate the overall pass rate - (avg math score + avg reading score)/2\n",
    "overallpassrate = (avgmathscore+avgreadingscore)/2\n",
    "overallpassrate"
   ]
  },
  {
   "cell_type": "code",
   "execution_count": 492,
   "metadata": {},
   "outputs": [
    {
     "data": {
      "text/plain": "74.9808526933878"
     },
     "execution_count": 492,
     "metadata": {},
     "output_type": "execute_result"
    }
   ],
   "source": [
    "#calculate % of students with a passing math score - 70 or greater\n",
    "passesmath = 0\n",
    "\n",
    "mathgrade_data = student_data.loc[:,\"math_score\"]\n",
    "\n",
    "for grade in mathgrade_data:\n",
    "    if grade >= 70:\n",
    "        passesmath += 1\n",
    "\n",
    "pctpassingmath = (passesmath/totalstudents)*100\n",
    "\n",
    "pctpassingmath"
   ]
  },
  {
   "cell_type": "code",
   "execution_count": 493,
   "metadata": {},
   "outputs": [
    {
     "data": {
      "text/plain": "85.80546336482001"
     },
     "execution_count": 493,
     "metadata": {},
     "output_type": "execute_result"
    }
   ],
   "source": [
    "#calculate % of students with a passing reading score - 70 or greater\n",
    "passesreading = 0\n",
    "\n",
    "readinggrade_data = student_data.loc[:,\"reading_score\"]\n",
    "\n",
    "for grade in readinggrade_data:\n",
    "        if grade >= 70:\n",
    "            passesreading+=1\n",
    "\n",
    "pctpassingreading = (passesreading/totalstudents)*100\n",
    "\n",
    "pctpassingreading"
   ]
  },
  {
   "cell_type": "code",
   "execution_count": 494,
   "metadata": {},
   "outputs": [
    {
     "data": {
      "text/html": "<div>\n<style scoped>\n    .dataframe tbody tr th:only-of-type {\n        vertical-align: middle;\n    }\n\n    .dataframe tbody tr th {\n        vertical-align: top;\n    }\n\n    .dataframe thead th {\n        text-align: right;\n    }\n</style>\n<table border=\"1\" class=\"dataframe\">\n  <thead>\n    <tr style=\"text-align: right;\">\n      <th></th>\n      <th>Total Schools</th>\n      <th>Total Students</th>\n      <th>Total Budget</th>\n      <th>Avg Math Score</th>\n      <th>Avg Reading Score</th>\n      <th>Overall Pass Rate</th>\n      <th>% Passing Math</th>\n      <th>% Passing Reading</th>\n    </tr>\n  </thead>\n  <tbody>\n    <tr>\n      <td>0</td>\n      <td>15</td>\n      <td>39170</td>\n      <td>24649428</td>\n      <td>78.985371</td>\n      <td>81.87784</td>\n      <td>80.431606</td>\n      <td>74.980853</td>\n      <td>85.805463</td>\n    </tr>\n  </tbody>\n</table>\n</div>",
      "text/plain": "   Total Schools  Total Students  Total Budget  Avg Math Score  \\\n0             15           39170      24649428       78.985371   \n\n   Avg Reading Score  Overall Pass Rate  % Passing Math  % Passing Reading  \n0           81.87784          80.431606       74.980853          85.805463  "
     },
     "execution_count": 494,
     "metadata": {},
     "output_type": "execute_result"
    }
   ],
   "source": [
    "#create a dataframe for the results\n",
    "districtsummarynums = [totalschools, totalstudents, totalbudget, avgmathscore, avgreadingscore, overallpassrate,pctpassingmath, pctpassingreading]\n",
    "districtsummarytitles =[\"Total Schools\", \"Total Students\", \"Total Budget\", \"Avg Math Score\", \"Avg Reading Score\", \"Overall Pass Rate\",\"% Passing Math\", \"% Passing Reading\"]\n",
    "\n",
    "districtsummary_df = pd.DataFrame([districtsummarynums], columns = districtsummarytitles)\n",
    "districtsummary_df"
   ]
  },
  {
   "cell_type": "code",
   "execution_count": 495,
   "metadata": {},
   "outputs": [],
   "source": [
    "## District Summary\n",
    "\n",
    "#* Calculate the total number of schools\n",
    "\n",
    "#* Calculate the total number of students\n",
    "\n",
    "#* Calculate the total budget\n",
    "\n",
    "#* Calculate the average math score \n",
    "\n",
    "#* Calculate the average reading score\n",
    "\n",
    "#* Calculate the overall passing rate (overall average score), i.e. (avg. math score + avg. reading score)/2\n",
    "\n",
    "#* Calculate the percentage of students with a passing math score (70 or greater)\n",
    "\n",
    "#* Calculate the percentage of students with a passing reading score (70 or greater)\n",
    "\n",
    "#* Create a dataframe to hold the above results\n",
    "\n",
    "#* Optional: give the displayed data cleaner formatting"
   ]
  },
  {
   "cell_type": "code",
   "execution_count": 496,
   "metadata": {},
   "outputs": [
    {
     "data": {
      "text/html": "<div>\n<style scoped>\n    .dataframe tbody tr th:only-of-type {\n        vertical-align: middle;\n    }\n\n    .dataframe tbody tr th {\n        vertical-align: top;\n    }\n\n    .dataframe thead th {\n        text-align: right;\n    }\n</style>\n<table border=\"1\" class=\"dataframe\">\n  <thead>\n    <tr style=\"text-align: right;\">\n      <th></th>\n      <th>School ID</th>\n      <th>school_name</th>\n      <th>type</th>\n      <th>size</th>\n      <th>budget</th>\n    </tr>\n  </thead>\n  <tbody>\n    <tr>\n      <td>0</td>\n      <td>0</td>\n      <td>Huang High School</td>\n      <td>District</td>\n      <td>2917</td>\n      <td>1910635</td>\n    </tr>\n    <tr>\n      <td>1</td>\n      <td>1</td>\n      <td>Figueroa High School</td>\n      <td>District</td>\n      <td>2949</td>\n      <td>1884411</td>\n    </tr>\n    <tr>\n      <td>2</td>\n      <td>2</td>\n      <td>Shelton High School</td>\n      <td>Charter</td>\n      <td>1761</td>\n      <td>1056600</td>\n    </tr>\n    <tr>\n      <td>3</td>\n      <td>3</td>\n      <td>Hernandez High School</td>\n      <td>District</td>\n      <td>4635</td>\n      <td>3022020</td>\n    </tr>\n    <tr>\n      <td>4</td>\n      <td>4</td>\n      <td>Griffin High School</td>\n      <td>Charter</td>\n      <td>1468</td>\n      <td>917500</td>\n    </tr>\n  </tbody>\n</table>\n</div>",
      "text/plain": "   School ID            school_name      type  size   budget\n0          0      Huang High School  District  2917  1910635\n1          1   Figueroa High School  District  2949  1884411\n2          2    Shelton High School   Charter  1761  1056600\n3          3  Hernandez High School  District  4635  3022020\n4          4    Griffin High School   Charter  1468   917500"
     },
     "execution_count": 496,
     "metadata": {},
     "output_type": "execute_result"
    }
   ],
   "source": [
    "#Show the school group data\n",
    "school_data.head()"
   ]
  },
  {
   "cell_type": "code",
   "execution_count": 497,
   "metadata": {},
   "outputs": [
    {
     "data": {
      "text/html": "<div>\n<style scoped>\n    .dataframe tbody tr th:only-of-type {\n        vertical-align: middle;\n    }\n\n    .dataframe tbody tr th {\n        vertical-align: top;\n    }\n\n    .dataframe thead th {\n        text-align: right;\n    }\n</style>\n<table border=\"1\" class=\"dataframe\">\n  <thead>\n    <tr style=\"text-align: right;\">\n      <th></th>\n      <th>Per Student Budget</th>\n    </tr>\n  </thead>\n  <tbody>\n    <tr>\n      <td>0</td>\n      <td>655.0</td>\n    </tr>\n    <tr>\n      <td>1</td>\n      <td>639.0</td>\n    </tr>\n    <tr>\n      <td>2</td>\n      <td>600.0</td>\n    </tr>\n    <tr>\n      <td>3</td>\n      <td>652.0</td>\n    </tr>\n    <tr>\n      <td>4</td>\n      <td>625.0</td>\n    </tr>\n  </tbody>\n</table>\n</div>",
      "text/plain": "   Per Student Budget\n0               655.0\n1               639.0\n2               600.0\n3               652.0\n4               625.0"
     },
     "execution_count": 497,
     "metadata": {},
     "output_type": "execute_result"
    }
   ],
   "source": [
    "#perstudent budget\n",
    "perstudent = school_data[\"budget\"]/school_data[\"size\"]\n",
    "\n",
    "perstudentbudget_df = pd.DataFrame({\"Per Student Budget\":perstudent})\n",
    "\n",
    "perstudentbudget_df.head()"
   ]
  },
  {
   "cell_type": "code",
   "execution_count": 498,
   "metadata": {},
   "outputs": [
    {
     "data": {
      "text/html": "<div>\n<style scoped>\n    .dataframe tbody tr th:only-of-type {\n        vertical-align: middle;\n    }\n\n    .dataframe tbody tr th {\n        vertical-align: top;\n    }\n\n    .dataframe thead th {\n        text-align: right;\n    }\n</style>\n<table border=\"1\" class=\"dataframe\">\n  <thead>\n    <tr style=\"text-align: right;\">\n      <th></th>\n      <th>School ID</th>\n      <th>school_name</th>\n      <th>type</th>\n      <th>size</th>\n      <th>budget</th>\n      <th>Per Student Budget</th>\n    </tr>\n  </thead>\n  <tbody>\n    <tr>\n      <td>0</td>\n      <td>0</td>\n      <td>Huang High School</td>\n      <td>District</td>\n      <td>2917</td>\n      <td>1910635</td>\n      <td>655.0</td>\n    </tr>\n    <tr>\n      <td>1</td>\n      <td>1</td>\n      <td>Figueroa High School</td>\n      <td>District</td>\n      <td>2949</td>\n      <td>1884411</td>\n      <td>639.0</td>\n    </tr>\n    <tr>\n      <td>2</td>\n      <td>2</td>\n      <td>Shelton High School</td>\n      <td>Charter</td>\n      <td>1761</td>\n      <td>1056600</td>\n      <td>600.0</td>\n    </tr>\n    <tr>\n      <td>3</td>\n      <td>3</td>\n      <td>Hernandez High School</td>\n      <td>District</td>\n      <td>4635</td>\n      <td>3022020</td>\n      <td>652.0</td>\n    </tr>\n    <tr>\n      <td>4</td>\n      <td>4</td>\n      <td>Griffin High School</td>\n      <td>Charter</td>\n      <td>1468</td>\n      <td>917500</td>\n      <td>625.0</td>\n    </tr>\n  </tbody>\n</table>\n</div>",
      "text/plain": "   School ID            school_name      type  size   budget  \\\n0          0      Huang High School  District  2917  1910635   \n1          1   Figueroa High School  District  2949  1884411   \n2          2    Shelton High School   Charter  1761  1056600   \n3          3  Hernandez High School  District  4635  3022020   \n4          4    Griffin High School   Charter  1468   917500   \n\n   Per Student Budget  \n0               655.0  \n1               639.0  \n2               600.0  \n3               652.0  \n4               625.0  "
     },
     "execution_count": 498,
     "metadata": {},
     "output_type": "execute_result"
    }
   ],
   "source": [
    "#add the student budget to the school data\n",
    "school_data_summary = pd.concat([school_data, perstudentbudget_df], axis=1)\n",
    "\n",
    "school_data_summary.head()"
   ]
  },
  {
   "cell_type": "code",
   "execution_count": 499,
   "metadata": {},
   "outputs": [
    {
     "data": {
      "text/html": "<div>\n<style scoped>\n    .dataframe tbody tr th:only-of-type {\n        vertical-align: middle;\n    }\n\n    .dataframe tbody tr th {\n        vertical-align: top;\n    }\n\n    .dataframe thead th {\n        text-align: right;\n    }\n</style>\n<table border=\"1\" class=\"dataframe\">\n  <thead>\n    <tr style=\"text-align: right;\">\n      <th></th>\n      <th>Student ID</th>\n      <th>student_name</th>\n      <th>gender</th>\n      <th>grade</th>\n      <th>school_name</th>\n      <th>reading_score</th>\n      <th>math_score</th>\n    </tr>\n  </thead>\n  <tbody>\n    <tr>\n      <td>0</td>\n      <td>0</td>\n      <td>Paul Bradley</td>\n      <td>M</td>\n      <td>9th</td>\n      <td>Huang High School</td>\n      <td>66</td>\n      <td>79</td>\n    </tr>\n    <tr>\n      <td>1</td>\n      <td>1</td>\n      <td>Victor Smith</td>\n      <td>M</td>\n      <td>12th</td>\n      <td>Huang High School</td>\n      <td>94</td>\n      <td>61</td>\n    </tr>\n    <tr>\n      <td>2</td>\n      <td>2</td>\n      <td>Kevin Rodriguez</td>\n      <td>M</td>\n      <td>12th</td>\n      <td>Huang High School</td>\n      <td>90</td>\n      <td>60</td>\n    </tr>\n    <tr>\n      <td>3</td>\n      <td>3</td>\n      <td>Dr. Richard Scott</td>\n      <td>M</td>\n      <td>12th</td>\n      <td>Huang High School</td>\n      <td>67</td>\n      <td>58</td>\n    </tr>\n    <tr>\n      <td>4</td>\n      <td>4</td>\n      <td>Bonnie Ray</td>\n      <td>F</td>\n      <td>9th</td>\n      <td>Huang High School</td>\n      <td>97</td>\n      <td>84</td>\n    </tr>\n  </tbody>\n</table>\n</div>",
      "text/plain": "   Student ID       student_name gender grade        school_name  \\\n0           0       Paul Bradley      M   9th  Huang High School   \n1           1       Victor Smith      M  12th  Huang High School   \n2           2    Kevin Rodriguez      M  12th  Huang High School   \n3           3  Dr. Richard Scott      M  12th  Huang High School   \n4           4         Bonnie Ray      F   9th  Huang High School   \n\n   reading_score  math_score  \n0             66          79  \n1             94          61  \n2             90          60  \n3             67          58  \n4             97          84  "
     },
     "execution_count": 499,
     "metadata": {},
     "output_type": "execute_result"
    }
   ],
   "source": [
    "#show the student data\n",
    "student_data.head()\n"
   ]
  },
  {
   "cell_type": "code",
   "execution_count": 500,
   "metadata": {},
   "outputs": [
    {
     "data": {
      "text/html": "<div>\n<style scoped>\n    .dataframe tbody tr th:only-of-type {\n        vertical-align: middle;\n    }\n\n    .dataframe tbody tr th {\n        vertical-align: top;\n    }\n\n    .dataframe thead th {\n        text-align: right;\n    }\n</style>\n<table border=\"1\" class=\"dataframe\">\n  <thead>\n    <tr style=\"text-align: right;\">\n      <th></th>\n      <th>school_name</th>\n      <th>reading_score</th>\n      <th>math_score</th>\n    </tr>\n  </thead>\n  <tbody>\n    <tr>\n      <td>0</td>\n      <td>Huang High School</td>\n      <td>66</td>\n      <td>79</td>\n    </tr>\n    <tr>\n      <td>1</td>\n      <td>Huang High School</td>\n      <td>94</td>\n      <td>61</td>\n    </tr>\n    <tr>\n      <td>2</td>\n      <td>Huang High School</td>\n      <td>90</td>\n      <td>60</td>\n    </tr>\n    <tr>\n      <td>3</td>\n      <td>Huang High School</td>\n      <td>67</td>\n      <td>58</td>\n    </tr>\n    <tr>\n      <td>4</td>\n      <td>Huang High School</td>\n      <td>97</td>\n      <td>84</td>\n    </tr>\n  </tbody>\n</table>\n</div>",
      "text/plain": "         school_name  reading_score  math_score\n0  Huang High School             66          79\n1  Huang High School             94          61\n2  Huang High School             90          60\n3  Huang High School             67          58\n4  Huang High School             97          84"
     },
     "execution_count": 500,
     "metadata": {},
     "output_type": "execute_result"
    }
   ],
   "source": [
    "#groupby on the student data\n",
    "student_data_short = student_data[[\"school_name\",\"reading_score\",\"math_score\"]]\n",
    "\n",
    "student_data_short.groupby(\"school_name\")\n",
    "\n",
    "student_data_short.head()"
   ]
  },
  {
   "cell_type": "code",
   "execution_count": 501,
   "metadata": {},
   "outputs": [
    {
     "data": {
      "text/html": "<div>\n<style scoped>\n    .dataframe tbody tr th:only-of-type {\n        vertical-align: middle;\n    }\n\n    .dataframe tbody tr th {\n        vertical-align: top;\n    }\n\n    .dataframe thead th {\n        text-align: right;\n    }\n</style>\n<table border=\"1\" class=\"dataframe\">\n  <thead>\n    <tr style=\"text-align: right;\">\n      <th></th>\n      <th>reading_score</th>\n      <th>math_score</th>\n    </tr>\n    <tr>\n      <th>school_name</th>\n      <th></th>\n      <th></th>\n    </tr>\n  </thead>\n  <tbody>\n    <tr>\n      <td>Bailey High School</td>\n      <td>81.033963</td>\n      <td>77.048432</td>\n    </tr>\n    <tr>\n      <td>Cabrera High School</td>\n      <td>83.975780</td>\n      <td>83.061895</td>\n    </tr>\n    <tr>\n      <td>Figueroa High School</td>\n      <td>81.158020</td>\n      <td>76.711767</td>\n    </tr>\n    <tr>\n      <td>Ford High School</td>\n      <td>80.746258</td>\n      <td>77.102592</td>\n    </tr>\n    <tr>\n      <td>Griffin High School</td>\n      <td>83.816757</td>\n      <td>83.351499</td>\n    </tr>\n  </tbody>\n</table>\n</div>",
      "text/plain": "                      reading_score  math_score\nschool_name                                    \nBailey High School        81.033963   77.048432\nCabrera High School       83.975780   83.061895\nFigueroa High School      81.158020   76.711767\nFord High School          80.746258   77.102592\nGriffin High School       83.816757   83.351499"
     },
     "execution_count": 501,
     "metadata": {},
     "output_type": "execute_result"
    }
   ],
   "source": [
    "#calculate the average reading score and math score\n",
    "student_data_avgscores = student_data_short.groupby(\"school_name\").agg(np.mean)\n",
    "\n",
    "student_data_avgscores.head()"
   ]
  },
  {
   "cell_type": "code",
   "execution_count": 502,
   "metadata": {},
   "outputs": [
    {
     "data": {
      "text/html": "<div>\n<style scoped>\n    .dataframe tbody tr th:only-of-type {\n        vertical-align: middle;\n    }\n\n    .dataframe tbody tr th {\n        vertical-align: top;\n    }\n\n    .dataframe thead th {\n        text-align: right;\n    }\n</style>\n<table border=\"1\" class=\"dataframe\">\n  <thead>\n    <tr style=\"text-align: right;\">\n      <th></th>\n      <th>School ID</th>\n      <th>school_name</th>\n      <th>type</th>\n      <th>size</th>\n      <th>budget</th>\n      <th>Per Student Budget</th>\n      <th>avg reading score</th>\n      <th>avg math score</th>\n    </tr>\n  </thead>\n  <tbody>\n    <tr>\n      <td>0</td>\n      <td>0</td>\n      <td>Huang High School</td>\n      <td>District</td>\n      <td>2917</td>\n      <td>1910635</td>\n      <td>655.0</td>\n      <td>81.182722</td>\n      <td>76.629414</td>\n    </tr>\n    <tr>\n      <td>1</td>\n      <td>1</td>\n      <td>Figueroa High School</td>\n      <td>District</td>\n      <td>2949</td>\n      <td>1884411</td>\n      <td>639.0</td>\n      <td>81.158020</td>\n      <td>76.711767</td>\n    </tr>\n    <tr>\n      <td>2</td>\n      <td>2</td>\n      <td>Shelton High School</td>\n      <td>Charter</td>\n      <td>1761</td>\n      <td>1056600</td>\n      <td>600.0</td>\n      <td>83.725724</td>\n      <td>83.359455</td>\n    </tr>\n    <tr>\n      <td>3</td>\n      <td>3</td>\n      <td>Hernandez High School</td>\n      <td>District</td>\n      <td>4635</td>\n      <td>3022020</td>\n      <td>652.0</td>\n      <td>80.934412</td>\n      <td>77.289752</td>\n    </tr>\n    <tr>\n      <td>4</td>\n      <td>4</td>\n      <td>Griffin High School</td>\n      <td>Charter</td>\n      <td>1468</td>\n      <td>917500</td>\n      <td>625.0</td>\n      <td>83.816757</td>\n      <td>83.351499</td>\n    </tr>\n    <tr>\n      <td>5</td>\n      <td>5</td>\n      <td>Wilson High School</td>\n      <td>Charter</td>\n      <td>2283</td>\n      <td>1319574</td>\n      <td>578.0</td>\n      <td>83.989488</td>\n      <td>83.274201</td>\n    </tr>\n    <tr>\n      <td>6</td>\n      <td>6</td>\n      <td>Cabrera High School</td>\n      <td>Charter</td>\n      <td>1858</td>\n      <td>1081356</td>\n      <td>582.0</td>\n      <td>83.975780</td>\n      <td>83.061895</td>\n    </tr>\n    <tr>\n      <td>7</td>\n      <td>7</td>\n      <td>Bailey High School</td>\n      <td>District</td>\n      <td>4976</td>\n      <td>3124928</td>\n      <td>628.0</td>\n      <td>81.033963</td>\n      <td>77.048432</td>\n    </tr>\n    <tr>\n      <td>8</td>\n      <td>8</td>\n      <td>Holden High School</td>\n      <td>Charter</td>\n      <td>427</td>\n      <td>248087</td>\n      <td>581.0</td>\n      <td>83.814988</td>\n      <td>83.803279</td>\n    </tr>\n    <tr>\n      <td>9</td>\n      <td>9</td>\n      <td>Pena High School</td>\n      <td>Charter</td>\n      <td>962</td>\n      <td>585858</td>\n      <td>609.0</td>\n      <td>84.044699</td>\n      <td>83.839917</td>\n    </tr>\n  </tbody>\n</table>\n</div>",
      "text/plain": "   School ID            school_name      type  size   budget  \\\n0          0      Huang High School  District  2917  1910635   \n1          1   Figueroa High School  District  2949  1884411   \n2          2    Shelton High School   Charter  1761  1056600   \n3          3  Hernandez High School  District  4635  3022020   \n4          4    Griffin High School   Charter  1468   917500   \n5          5     Wilson High School   Charter  2283  1319574   \n6          6    Cabrera High School   Charter  1858  1081356   \n7          7     Bailey High School  District  4976  3124928   \n8          8     Holden High School   Charter   427   248087   \n9          9       Pena High School   Charter   962   585858   \n\n   Per Student Budget  avg reading score  avg math score  \n0               655.0          81.182722       76.629414  \n1               639.0          81.158020       76.711767  \n2               600.0          83.725724       83.359455  \n3               652.0          80.934412       77.289752  \n4               625.0          83.816757       83.351499  \n5               578.0          83.989488       83.274201  \n6               582.0          83.975780       83.061895  \n7               628.0          81.033963       77.048432  \n8               581.0          83.814988       83.803279  \n9               609.0          84.044699       83.839917  "
     },
     "execution_count": 502,
     "metadata": {},
     "output_type": "execute_result"
    }
   ],
   "source": [
    "#Join the math and reading score to the school summary\n",
    "school_data_summary2 = school_data_summary.join(student_data_avgscores,on=\"school_name\",how=\"outer\", lsuffix = \"_left\", rsuffix = \"_right\")\n",
    "\n",
    "school_data_summary_rename = school_data_summary2.rename(columns = {\"reading_score\":\"avg reading score\",\"math_score\":\"avg math score\"})\n",
    "\n",
    "school_data_summary_rename.head(10)"
   ]
  },
  {
   "cell_type": "code",
   "execution_count": 503,
   "metadata": {},
   "outputs": [
    {
     "data": {
      "text/html": "<div>\n<style scoped>\n    .dataframe tbody tr th:only-of-type {\n        vertical-align: middle;\n    }\n\n    .dataframe tbody tr th {\n        vertical-align: top;\n    }\n\n    .dataframe thead th {\n        text-align: right;\n    }\n</style>\n<table border=\"1\" class=\"dataframe\">\n  <thead>\n    <tr style=\"text-align: right;\">\n      <th></th>\n      <th>reading_score</th>\n    </tr>\n    <tr>\n      <th>school_name</th>\n      <th></th>\n    </tr>\n  </thead>\n  <tbody>\n    <tr>\n      <td>Bailey High School</td>\n      <td>4077</td>\n    </tr>\n    <tr>\n      <td>Cabrera High School</td>\n      <td>1803</td>\n    </tr>\n    <tr>\n      <td>Figueroa High School</td>\n      <td>2381</td>\n    </tr>\n    <tr>\n      <td>Ford High School</td>\n      <td>2172</td>\n    </tr>\n    <tr>\n      <td>Griffin High School</td>\n      <td>1426</td>\n    </tr>\n    <tr>\n      <td>Hernandez High School</td>\n      <td>3748</td>\n    </tr>\n    <tr>\n      <td>Holden High School</td>\n      <td>411</td>\n    </tr>\n    <tr>\n      <td>Huang High School</td>\n      <td>2372</td>\n    </tr>\n    <tr>\n      <td>Johnson High School</td>\n      <td>3867</td>\n    </tr>\n    <tr>\n      <td>Pena High School</td>\n      <td>923</td>\n    </tr>\n    <tr>\n      <td>Rodriguez High School</td>\n      <td>3208</td>\n    </tr>\n    <tr>\n      <td>Shelton High School</td>\n      <td>1688</td>\n    </tr>\n    <tr>\n      <td>Thomas High School</td>\n      <td>1591</td>\n    </tr>\n    <tr>\n      <td>Wilson High School</td>\n      <td>2204</td>\n    </tr>\n    <tr>\n      <td>Wright High School</td>\n      <td>1739</td>\n    </tr>\n  </tbody>\n</table>\n</div>",
      "text/plain": "                       reading_score\nschool_name                         \nBailey High School              4077\nCabrera High School             1803\nFigueroa High School            2381\nFord High School                2172\nGriffin High School             1426\nHernandez High School           3748\nHolden High School               411\nHuang High School               2372\nJohnson High School             3867\nPena High School                 923\nRodriguez High School           3208\nShelton High School             1688\nThomas High School              1591\nWilson High School              2204\nWright High School              1739"
     },
     "execution_count": 503,
     "metadata": {},
     "output_type": "execute_result"
    }
   ],
   "source": [
    "#calculate % passing reading\n",
    "#set passreading variable\n",
    "passreading = (student_data_short.loc[student_data_short[\"reading_score\"]>=70])\n",
    "\n",
    "passreadingcount = passreading.groupby(\"school_name\").count()\n",
    "\n",
    "passreadingcount_df = pd.DataFrame(passreadingcount[\"reading_score\"])\n",
    "\n",
    "passreadingcount_df"
   ]
  },
  {
   "cell_type": "code",
   "execution_count": 504,
   "metadata": {},
   "outputs": [
    {
     "data": {
      "text/html": "<div>\n<style scoped>\n    .dataframe tbody tr th:only-of-type {\n        vertical-align: middle;\n    }\n\n    .dataframe tbody tr th {\n        vertical-align: top;\n    }\n\n    .dataframe thead th {\n        text-align: right;\n    }\n</style>\n<table border=\"1\" class=\"dataframe\">\n  <thead>\n    <tr style=\"text-align: right;\">\n      <th></th>\n      <th>math_score</th>\n    </tr>\n    <tr>\n      <th>school_name</th>\n      <th></th>\n    </tr>\n  </thead>\n  <tbody>\n    <tr>\n      <td>Bailey High School</td>\n      <td>3318</td>\n    </tr>\n    <tr>\n      <td>Cabrera High School</td>\n      <td>1749</td>\n    </tr>\n    <tr>\n      <td>Figueroa High School</td>\n      <td>1946</td>\n    </tr>\n    <tr>\n      <td>Ford High School</td>\n      <td>1871</td>\n    </tr>\n    <tr>\n      <td>Griffin High School</td>\n      <td>1371</td>\n    </tr>\n    <tr>\n      <td>Hernandez High School</td>\n      <td>3094</td>\n    </tr>\n    <tr>\n      <td>Holden High School</td>\n      <td>395</td>\n    </tr>\n    <tr>\n      <td>Huang High School</td>\n      <td>1916</td>\n    </tr>\n    <tr>\n      <td>Johnson High School</td>\n      <td>3145</td>\n    </tr>\n    <tr>\n      <td>Pena High School</td>\n      <td>910</td>\n    </tr>\n    <tr>\n      <td>Rodriguez High School</td>\n      <td>2654</td>\n    </tr>\n    <tr>\n      <td>Shelton High School</td>\n      <td>1653</td>\n    </tr>\n    <tr>\n      <td>Thomas High School</td>\n      <td>1525</td>\n    </tr>\n    <tr>\n      <td>Wilson High School</td>\n      <td>2143</td>\n    </tr>\n    <tr>\n      <td>Wright High School</td>\n      <td>1680</td>\n    </tr>\n  </tbody>\n</table>\n</div>",
      "text/plain": "                       math_score\nschool_name                      \nBailey High School           3318\nCabrera High School          1749\nFigueroa High School         1946\nFord High School             1871\nGriffin High School          1371\nHernandez High School        3094\nHolden High School            395\nHuang High School            1916\nJohnson High School          3145\nPena High School              910\nRodriguez High School        2654\nShelton High School          1653\nThomas High School           1525\nWilson High School           2143\nWright High School           1680"
     },
     "execution_count": 504,
     "metadata": {},
     "output_type": "execute_result"
    }
   ],
   "source": [
    "#calculate % passing math\n",
    "#set passmath variable\n",
    "passmath = (student_data_short.loc[student_data_short[\"math_score\"]>=70])\n",
    "\n",
    "passmathcount = passmath.groupby(\"school_name\").count()\n",
    "\n",
    "passmathcount_df = pd.DataFrame(passmathcount[\"math_score\"])\n",
    "\n",
    "passmathcount_df"
   ]
  },
  {
   "cell_type": "code",
   "execution_count": 505,
   "metadata": {},
   "outputs": [
    {
     "data": {
      "text/html": "<div>\n<style scoped>\n    .dataframe tbody tr th:only-of-type {\n        vertical-align: middle;\n    }\n\n    .dataframe tbody tr th {\n        vertical-align: top;\n    }\n\n    .dataframe thead th {\n        text-align: right;\n    }\n</style>\n<table border=\"1\" class=\"dataframe\">\n  <thead>\n    <tr style=\"text-align: right;\">\n      <th></th>\n      <th>School ID</th>\n      <th>school_name</th>\n      <th>type</th>\n      <th>size</th>\n      <th>budget</th>\n      <th>Per Student Budget</th>\n      <th>avg reading score</th>\n      <th>avg math score</th>\n      <th>math_score</th>\n      <th>reading_score</th>\n    </tr>\n  </thead>\n  <tbody>\n    <tr>\n      <td>0</td>\n      <td>0</td>\n      <td>Huang High School</td>\n      <td>District</td>\n      <td>2917</td>\n      <td>1910635</td>\n      <td>655.0</td>\n      <td>81.182722</td>\n      <td>76.629414</td>\n      <td>1916</td>\n      <td>2372</td>\n    </tr>\n    <tr>\n      <td>1</td>\n      <td>1</td>\n      <td>Figueroa High School</td>\n      <td>District</td>\n      <td>2949</td>\n      <td>1884411</td>\n      <td>639.0</td>\n      <td>81.158020</td>\n      <td>76.711767</td>\n      <td>1946</td>\n      <td>2381</td>\n    </tr>\n    <tr>\n      <td>2</td>\n      <td>2</td>\n      <td>Shelton High School</td>\n      <td>Charter</td>\n      <td>1761</td>\n      <td>1056600</td>\n      <td>600.0</td>\n      <td>83.725724</td>\n      <td>83.359455</td>\n      <td>1653</td>\n      <td>1688</td>\n    </tr>\n    <tr>\n      <td>3</td>\n      <td>3</td>\n      <td>Hernandez High School</td>\n      <td>District</td>\n      <td>4635</td>\n      <td>3022020</td>\n      <td>652.0</td>\n      <td>80.934412</td>\n      <td>77.289752</td>\n      <td>3094</td>\n      <td>3748</td>\n    </tr>\n    <tr>\n      <td>4</td>\n      <td>4</td>\n      <td>Griffin High School</td>\n      <td>Charter</td>\n      <td>1468</td>\n      <td>917500</td>\n      <td>625.0</td>\n      <td>83.816757</td>\n      <td>83.351499</td>\n      <td>1371</td>\n      <td>1426</td>\n    </tr>\n    <tr>\n      <td>5</td>\n      <td>5</td>\n      <td>Wilson High School</td>\n      <td>Charter</td>\n      <td>2283</td>\n      <td>1319574</td>\n      <td>578.0</td>\n      <td>83.989488</td>\n      <td>83.274201</td>\n      <td>2143</td>\n      <td>2204</td>\n    </tr>\n    <tr>\n      <td>6</td>\n      <td>6</td>\n      <td>Cabrera High School</td>\n      <td>Charter</td>\n      <td>1858</td>\n      <td>1081356</td>\n      <td>582.0</td>\n      <td>83.975780</td>\n      <td>83.061895</td>\n      <td>1749</td>\n      <td>1803</td>\n    </tr>\n    <tr>\n      <td>7</td>\n      <td>7</td>\n      <td>Bailey High School</td>\n      <td>District</td>\n      <td>4976</td>\n      <td>3124928</td>\n      <td>628.0</td>\n      <td>81.033963</td>\n      <td>77.048432</td>\n      <td>3318</td>\n      <td>4077</td>\n    </tr>\n    <tr>\n      <td>8</td>\n      <td>8</td>\n      <td>Holden High School</td>\n      <td>Charter</td>\n      <td>427</td>\n      <td>248087</td>\n      <td>581.0</td>\n      <td>83.814988</td>\n      <td>83.803279</td>\n      <td>395</td>\n      <td>411</td>\n    </tr>\n    <tr>\n      <td>9</td>\n      <td>9</td>\n      <td>Pena High School</td>\n      <td>Charter</td>\n      <td>962</td>\n      <td>585858</td>\n      <td>609.0</td>\n      <td>84.044699</td>\n      <td>83.839917</td>\n      <td>910</td>\n      <td>923</td>\n    </tr>\n    <tr>\n      <td>10</td>\n      <td>10</td>\n      <td>Wright High School</td>\n      <td>Charter</td>\n      <td>1800</td>\n      <td>1049400</td>\n      <td>583.0</td>\n      <td>83.955000</td>\n      <td>83.682222</td>\n      <td>1680</td>\n      <td>1739</td>\n    </tr>\n    <tr>\n      <td>11</td>\n      <td>11</td>\n      <td>Rodriguez High School</td>\n      <td>District</td>\n      <td>3999</td>\n      <td>2547363</td>\n      <td>637.0</td>\n      <td>80.744686</td>\n      <td>76.842711</td>\n      <td>2654</td>\n      <td>3208</td>\n    </tr>\n    <tr>\n      <td>12</td>\n      <td>12</td>\n      <td>Johnson High School</td>\n      <td>District</td>\n      <td>4761</td>\n      <td>3094650</td>\n      <td>650.0</td>\n      <td>80.966394</td>\n      <td>77.072464</td>\n      <td>3145</td>\n      <td>3867</td>\n    </tr>\n    <tr>\n      <td>13</td>\n      <td>13</td>\n      <td>Ford High School</td>\n      <td>District</td>\n      <td>2739</td>\n      <td>1763916</td>\n      <td>644.0</td>\n      <td>80.746258</td>\n      <td>77.102592</td>\n      <td>1871</td>\n      <td>2172</td>\n    </tr>\n    <tr>\n      <td>14</td>\n      <td>14</td>\n      <td>Thomas High School</td>\n      <td>Charter</td>\n      <td>1635</td>\n      <td>1043130</td>\n      <td>638.0</td>\n      <td>83.848930</td>\n      <td>83.418349</td>\n      <td>1525</td>\n      <td>1591</td>\n    </tr>\n  </tbody>\n</table>\n</div>",
      "text/plain": "    School ID            school_name      type  size   budget  \\\n0           0      Huang High School  District  2917  1910635   \n1           1   Figueroa High School  District  2949  1884411   \n2           2    Shelton High School   Charter  1761  1056600   \n3           3  Hernandez High School  District  4635  3022020   \n4           4    Griffin High School   Charter  1468   917500   \n5           5     Wilson High School   Charter  2283  1319574   \n6           6    Cabrera High School   Charter  1858  1081356   \n7           7     Bailey High School  District  4976  3124928   \n8           8     Holden High School   Charter   427   248087   \n9           9       Pena High School   Charter   962   585858   \n10         10     Wright High School   Charter  1800  1049400   \n11         11  Rodriguez High School  District  3999  2547363   \n12         12    Johnson High School  District  4761  3094650   \n13         13       Ford High School  District  2739  1763916   \n14         14     Thomas High School   Charter  1635  1043130   \n\n    Per Student Budget  avg reading score  avg math score  math_score  \\\n0                655.0          81.182722       76.629414        1916   \n1                639.0          81.158020       76.711767        1946   \n2                600.0          83.725724       83.359455        1653   \n3                652.0          80.934412       77.289752        3094   \n4                625.0          83.816757       83.351499        1371   \n5                578.0          83.989488       83.274201        2143   \n6                582.0          83.975780       83.061895        1749   \n7                628.0          81.033963       77.048432        3318   \n8                581.0          83.814988       83.803279         395   \n9                609.0          84.044699       83.839917         910   \n10               583.0          83.955000       83.682222        1680   \n11               637.0          80.744686       76.842711        2654   \n12               650.0          80.966394       77.072464        3145   \n13               644.0          80.746258       77.102592        1871   \n14               638.0          83.848930       83.418349        1525   \n\n    reading_score  \n0            2372  \n1            2381  \n2            1688  \n3            3748  \n4            1426  \n5            2204  \n6            1803  \n7            4077  \n8             411  \n9             923  \n10           1739  \n11           3208  \n12           3867  \n13           2172  \n14           1591  "
     },
     "execution_count": 505,
     "metadata": {},
     "output_type": "execute_result"
    }
   ],
   "source": [
    "#join pass math count with the summary table\n",
    "school_data_summary3 = school_data_summary_rename.join(passmathcount_df, on=\"school_name\", how=\"outer\")\n",
    "\n",
    "school_data_summary4 = school_data_summary3.join(passreadingcount_df, on=\"school_name\", how=\"outer\")\n",
    "\n",
    "school_data_summary4"
   ]
  },
  {
   "cell_type": "code",
   "execution_count": 506,
   "metadata": {},
   "outputs": [
    {
     "data": {
      "text/plain": "0     0.656839\n1     0.659885\n2     0.938671\n3     0.667530\n4     0.933924\n5     0.938677\n6     0.941335\n7     0.666801\n8     0.925059\n9     0.945946\n10    0.933333\n11    0.663666\n12    0.660576\n13    0.683096\n14    0.932722\ndtype: float64"
     },
     "execution_count": 506,
     "metadata": {},
     "output_type": "execute_result"
    }
   ],
   "source": [
    "#calculate the math passing rate for each school\n",
    "mathpassrate = school_data_summary4[\"math_score\"]/school_data_summary3[\"size\"]\n",
    "\n",
    "mathpassrate\n"
   ]
  },
  {
   "cell_type": "code",
   "execution_count": 507,
   "metadata": {},
   "outputs": [
    {
     "data": {
      "text/plain": "0     0.813164\n1     0.807392\n2     0.958546\n3     0.808630\n4     0.971390\n5     0.965396\n6     0.970398\n7     0.819333\n8     0.962529\n9     0.959459\n10    0.966111\n11    0.802201\n12    0.812224\n13    0.792990\n14    0.973089\ndtype: float64"
     },
     "execution_count": 507,
     "metadata": {},
     "output_type": "execute_result"
    }
   ],
   "source": [
    "#calculate the reading passing rate for each school\n",
    "readingpassrate = school_data_summary4[\"reading_score\"]/school_data_summary3[\"size\"]\n",
    "\n",
    "readingpassrate"
   ]
  },
  {
   "cell_type": "code",
   "execution_count": 508,
   "metadata": {},
   "outputs": [
    {
     "data": {
      "text/html": "<div>\n<style scoped>\n    .dataframe tbody tr th:only-of-type {\n        vertical-align: middle;\n    }\n\n    .dataframe tbody tr th {\n        vertical-align: top;\n    }\n\n    .dataframe thead th {\n        text-align: right;\n    }\n</style>\n<table border=\"1\" class=\"dataframe\">\n  <thead>\n    <tr style=\"text-align: right;\">\n      <th></th>\n      <th>School ID</th>\n      <th>school_name</th>\n      <th>type</th>\n      <th>size</th>\n      <th>budget</th>\n      <th>Per Student Budget</th>\n      <th>avg reading score</th>\n      <th>avg math score</th>\n      <th>math_score</th>\n      <th>Math Pass Rate</th>\n    </tr>\n  </thead>\n  <tbody>\n    <tr>\n      <td>0</td>\n      <td>0</td>\n      <td>Huang High School</td>\n      <td>District</td>\n      <td>2917</td>\n      <td>1910635</td>\n      <td>655.0</td>\n      <td>81.182722</td>\n      <td>76.629414</td>\n      <td>1916</td>\n      <td>0.656839</td>\n    </tr>\n    <tr>\n      <td>1</td>\n      <td>1</td>\n      <td>Figueroa High School</td>\n      <td>District</td>\n      <td>2949</td>\n      <td>1884411</td>\n      <td>639.0</td>\n      <td>81.158020</td>\n      <td>76.711767</td>\n      <td>1946</td>\n      <td>0.659885</td>\n    </tr>\n    <tr>\n      <td>2</td>\n      <td>2</td>\n      <td>Shelton High School</td>\n      <td>Charter</td>\n      <td>1761</td>\n      <td>1056600</td>\n      <td>600.0</td>\n      <td>83.725724</td>\n      <td>83.359455</td>\n      <td>1653</td>\n      <td>0.938671</td>\n    </tr>\n    <tr>\n      <td>3</td>\n      <td>3</td>\n      <td>Hernandez High School</td>\n      <td>District</td>\n      <td>4635</td>\n      <td>3022020</td>\n      <td>652.0</td>\n      <td>80.934412</td>\n      <td>77.289752</td>\n      <td>3094</td>\n      <td>0.667530</td>\n    </tr>\n    <tr>\n      <td>4</td>\n      <td>4</td>\n      <td>Griffin High School</td>\n      <td>Charter</td>\n      <td>1468</td>\n      <td>917500</td>\n      <td>625.0</td>\n      <td>83.816757</td>\n      <td>83.351499</td>\n      <td>1371</td>\n      <td>0.933924</td>\n    </tr>\n    <tr>\n      <td>5</td>\n      <td>5</td>\n      <td>Wilson High School</td>\n      <td>Charter</td>\n      <td>2283</td>\n      <td>1319574</td>\n      <td>578.0</td>\n      <td>83.989488</td>\n      <td>83.274201</td>\n      <td>2143</td>\n      <td>0.938677</td>\n    </tr>\n    <tr>\n      <td>6</td>\n      <td>6</td>\n      <td>Cabrera High School</td>\n      <td>Charter</td>\n      <td>1858</td>\n      <td>1081356</td>\n      <td>582.0</td>\n      <td>83.975780</td>\n      <td>83.061895</td>\n      <td>1749</td>\n      <td>0.941335</td>\n    </tr>\n    <tr>\n      <td>7</td>\n      <td>7</td>\n      <td>Bailey High School</td>\n      <td>District</td>\n      <td>4976</td>\n      <td>3124928</td>\n      <td>628.0</td>\n      <td>81.033963</td>\n      <td>77.048432</td>\n      <td>3318</td>\n      <td>0.666801</td>\n    </tr>\n    <tr>\n      <td>8</td>\n      <td>8</td>\n      <td>Holden High School</td>\n      <td>Charter</td>\n      <td>427</td>\n      <td>248087</td>\n      <td>581.0</td>\n      <td>83.814988</td>\n      <td>83.803279</td>\n      <td>395</td>\n      <td>0.925059</td>\n    </tr>\n    <tr>\n      <td>9</td>\n      <td>9</td>\n      <td>Pena High School</td>\n      <td>Charter</td>\n      <td>962</td>\n      <td>585858</td>\n      <td>609.0</td>\n      <td>84.044699</td>\n      <td>83.839917</td>\n      <td>910</td>\n      <td>0.945946</td>\n    </tr>\n    <tr>\n      <td>10</td>\n      <td>10</td>\n      <td>Wright High School</td>\n      <td>Charter</td>\n      <td>1800</td>\n      <td>1049400</td>\n      <td>583.0</td>\n      <td>83.955000</td>\n      <td>83.682222</td>\n      <td>1680</td>\n      <td>0.933333</td>\n    </tr>\n    <tr>\n      <td>11</td>\n      <td>11</td>\n      <td>Rodriguez High School</td>\n      <td>District</td>\n      <td>3999</td>\n      <td>2547363</td>\n      <td>637.0</td>\n      <td>80.744686</td>\n      <td>76.842711</td>\n      <td>2654</td>\n      <td>0.663666</td>\n    </tr>\n    <tr>\n      <td>12</td>\n      <td>12</td>\n      <td>Johnson High School</td>\n      <td>District</td>\n      <td>4761</td>\n      <td>3094650</td>\n      <td>650.0</td>\n      <td>80.966394</td>\n      <td>77.072464</td>\n      <td>3145</td>\n      <td>0.660576</td>\n    </tr>\n    <tr>\n      <td>13</td>\n      <td>13</td>\n      <td>Ford High School</td>\n      <td>District</td>\n      <td>2739</td>\n      <td>1763916</td>\n      <td>644.0</td>\n      <td>80.746258</td>\n      <td>77.102592</td>\n      <td>1871</td>\n      <td>0.683096</td>\n    </tr>\n    <tr>\n      <td>14</td>\n      <td>14</td>\n      <td>Thomas High School</td>\n      <td>Charter</td>\n      <td>1635</td>\n      <td>1043130</td>\n      <td>638.0</td>\n      <td>83.848930</td>\n      <td>83.418349</td>\n      <td>1525</td>\n      <td>0.932722</td>\n    </tr>\n  </tbody>\n</table>\n</div>",
      "text/plain": "    School ID            school_name      type  size   budget  \\\n0           0      Huang High School  District  2917  1910635   \n1           1   Figueroa High School  District  2949  1884411   \n2           2    Shelton High School   Charter  1761  1056600   \n3           3  Hernandez High School  District  4635  3022020   \n4           4    Griffin High School   Charter  1468   917500   \n5           5     Wilson High School   Charter  2283  1319574   \n6           6    Cabrera High School   Charter  1858  1081356   \n7           7     Bailey High School  District  4976  3124928   \n8           8     Holden High School   Charter   427   248087   \n9           9       Pena High School   Charter   962   585858   \n10         10     Wright High School   Charter  1800  1049400   \n11         11  Rodriguez High School  District  3999  2547363   \n12         12    Johnson High School  District  4761  3094650   \n13         13       Ford High School  District  2739  1763916   \n14         14     Thomas High School   Charter  1635  1043130   \n\n    Per Student Budget  avg reading score  avg math score  math_score  \\\n0                655.0          81.182722       76.629414        1916   \n1                639.0          81.158020       76.711767        1946   \n2                600.0          83.725724       83.359455        1653   \n3                652.0          80.934412       77.289752        3094   \n4                625.0          83.816757       83.351499        1371   \n5                578.0          83.989488       83.274201        2143   \n6                582.0          83.975780       83.061895        1749   \n7                628.0          81.033963       77.048432        3318   \n8                581.0          83.814988       83.803279         395   \n9                609.0          84.044699       83.839917         910   \n10               583.0          83.955000       83.682222        1680   \n11               637.0          80.744686       76.842711        2654   \n12               650.0          80.966394       77.072464        3145   \n13               644.0          80.746258       77.102592        1871   \n14               638.0          83.848930       83.418349        1525   \n\n    Math Pass Rate  \n0         0.656839  \n1         0.659885  \n2         0.938671  \n3         0.667530  \n4         0.933924  \n5         0.938677  \n6         0.941335  \n7         0.666801  \n8         0.925059  \n9         0.945946  \n10        0.933333  \n11        0.663666  \n12        0.660576  \n13        0.683096  \n14        0.932722  "
     },
     "execution_count": 508,
     "metadata": {},
     "output_type": "execute_result"
    }
   ],
   "source": [
    "#concatenate the math pass rate to the summary table\n",
    "school_data_summary4=pd.concat([school_data_summary3, mathpassrate],axis=1)\n",
    "\n",
    "school_data_summary5=school_data_summary4.rename(columns={0:\"Math Pass Rate\"})\n",
    "\n",
    "school_data_summary5"
   ]
  },
  {
   "cell_type": "code",
   "execution_count": 509,
   "metadata": {},
   "outputs": [
    {
     "data": {
      "text/html": "<div>\n<style scoped>\n    .dataframe tbody tr th:only-of-type {\n        vertical-align: middle;\n    }\n\n    .dataframe tbody tr th {\n        vertical-align: top;\n    }\n\n    .dataframe thead th {\n        text-align: right;\n    }\n</style>\n<table border=\"1\" class=\"dataframe\">\n  <thead>\n    <tr style=\"text-align: right;\">\n      <th></th>\n      <th>School ID</th>\n      <th>school_name</th>\n      <th>type</th>\n      <th>size</th>\n      <th>budget</th>\n      <th>Per Student Budget</th>\n      <th>avg reading score</th>\n      <th>avg math score</th>\n      <th>math_score</th>\n      <th>Math Pass Rate</th>\n      <th>Reading Pass Rate</th>\n    </tr>\n  </thead>\n  <tbody>\n    <tr>\n      <td>0</td>\n      <td>0</td>\n      <td>Huang High School</td>\n      <td>District</td>\n      <td>2917</td>\n      <td>1910635</td>\n      <td>655.0</td>\n      <td>81.182722</td>\n      <td>76.629414</td>\n      <td>1916</td>\n      <td>0.656839</td>\n      <td>0.813164</td>\n    </tr>\n    <tr>\n      <td>1</td>\n      <td>1</td>\n      <td>Figueroa High School</td>\n      <td>District</td>\n      <td>2949</td>\n      <td>1884411</td>\n      <td>639.0</td>\n      <td>81.158020</td>\n      <td>76.711767</td>\n      <td>1946</td>\n      <td>0.659885</td>\n      <td>0.807392</td>\n    </tr>\n    <tr>\n      <td>2</td>\n      <td>2</td>\n      <td>Shelton High School</td>\n      <td>Charter</td>\n      <td>1761</td>\n      <td>1056600</td>\n      <td>600.0</td>\n      <td>83.725724</td>\n      <td>83.359455</td>\n      <td>1653</td>\n      <td>0.938671</td>\n      <td>0.958546</td>\n    </tr>\n    <tr>\n      <td>3</td>\n      <td>3</td>\n      <td>Hernandez High School</td>\n      <td>District</td>\n      <td>4635</td>\n      <td>3022020</td>\n      <td>652.0</td>\n      <td>80.934412</td>\n      <td>77.289752</td>\n      <td>3094</td>\n      <td>0.667530</td>\n      <td>0.808630</td>\n    </tr>\n    <tr>\n      <td>4</td>\n      <td>4</td>\n      <td>Griffin High School</td>\n      <td>Charter</td>\n      <td>1468</td>\n      <td>917500</td>\n      <td>625.0</td>\n      <td>83.816757</td>\n      <td>83.351499</td>\n      <td>1371</td>\n      <td>0.933924</td>\n      <td>0.971390</td>\n    </tr>\n    <tr>\n      <td>5</td>\n      <td>5</td>\n      <td>Wilson High School</td>\n      <td>Charter</td>\n      <td>2283</td>\n      <td>1319574</td>\n      <td>578.0</td>\n      <td>83.989488</td>\n      <td>83.274201</td>\n      <td>2143</td>\n      <td>0.938677</td>\n      <td>0.965396</td>\n    </tr>\n    <tr>\n      <td>6</td>\n      <td>6</td>\n      <td>Cabrera High School</td>\n      <td>Charter</td>\n      <td>1858</td>\n      <td>1081356</td>\n      <td>582.0</td>\n      <td>83.975780</td>\n      <td>83.061895</td>\n      <td>1749</td>\n      <td>0.941335</td>\n      <td>0.970398</td>\n    </tr>\n    <tr>\n      <td>7</td>\n      <td>7</td>\n      <td>Bailey High School</td>\n      <td>District</td>\n      <td>4976</td>\n      <td>3124928</td>\n      <td>628.0</td>\n      <td>81.033963</td>\n      <td>77.048432</td>\n      <td>3318</td>\n      <td>0.666801</td>\n      <td>0.819333</td>\n    </tr>\n    <tr>\n      <td>8</td>\n      <td>8</td>\n      <td>Holden High School</td>\n      <td>Charter</td>\n      <td>427</td>\n      <td>248087</td>\n      <td>581.0</td>\n      <td>83.814988</td>\n      <td>83.803279</td>\n      <td>395</td>\n      <td>0.925059</td>\n      <td>0.962529</td>\n    </tr>\n    <tr>\n      <td>9</td>\n      <td>9</td>\n      <td>Pena High School</td>\n      <td>Charter</td>\n      <td>962</td>\n      <td>585858</td>\n      <td>609.0</td>\n      <td>84.044699</td>\n      <td>83.839917</td>\n      <td>910</td>\n      <td>0.945946</td>\n      <td>0.959459</td>\n    </tr>\n    <tr>\n      <td>10</td>\n      <td>10</td>\n      <td>Wright High School</td>\n      <td>Charter</td>\n      <td>1800</td>\n      <td>1049400</td>\n      <td>583.0</td>\n      <td>83.955000</td>\n      <td>83.682222</td>\n      <td>1680</td>\n      <td>0.933333</td>\n      <td>0.966111</td>\n    </tr>\n    <tr>\n      <td>11</td>\n      <td>11</td>\n      <td>Rodriguez High School</td>\n      <td>District</td>\n      <td>3999</td>\n      <td>2547363</td>\n      <td>637.0</td>\n      <td>80.744686</td>\n      <td>76.842711</td>\n      <td>2654</td>\n      <td>0.663666</td>\n      <td>0.802201</td>\n    </tr>\n    <tr>\n      <td>12</td>\n      <td>12</td>\n      <td>Johnson High School</td>\n      <td>District</td>\n      <td>4761</td>\n      <td>3094650</td>\n      <td>650.0</td>\n      <td>80.966394</td>\n      <td>77.072464</td>\n      <td>3145</td>\n      <td>0.660576</td>\n      <td>0.812224</td>\n    </tr>\n    <tr>\n      <td>13</td>\n      <td>13</td>\n      <td>Ford High School</td>\n      <td>District</td>\n      <td>2739</td>\n      <td>1763916</td>\n      <td>644.0</td>\n      <td>80.746258</td>\n      <td>77.102592</td>\n      <td>1871</td>\n      <td>0.683096</td>\n      <td>0.792990</td>\n    </tr>\n    <tr>\n      <td>14</td>\n      <td>14</td>\n      <td>Thomas High School</td>\n      <td>Charter</td>\n      <td>1635</td>\n      <td>1043130</td>\n      <td>638.0</td>\n      <td>83.848930</td>\n      <td>83.418349</td>\n      <td>1525</td>\n      <td>0.932722</td>\n      <td>0.973089</td>\n    </tr>\n  </tbody>\n</table>\n</div>",
      "text/plain": "    School ID            school_name      type  size   budget  \\\n0           0      Huang High School  District  2917  1910635   \n1           1   Figueroa High School  District  2949  1884411   \n2           2    Shelton High School   Charter  1761  1056600   \n3           3  Hernandez High School  District  4635  3022020   \n4           4    Griffin High School   Charter  1468   917500   \n5           5     Wilson High School   Charter  2283  1319574   \n6           6    Cabrera High School   Charter  1858  1081356   \n7           7     Bailey High School  District  4976  3124928   \n8           8     Holden High School   Charter   427   248087   \n9           9       Pena High School   Charter   962   585858   \n10         10     Wright High School   Charter  1800  1049400   \n11         11  Rodriguez High School  District  3999  2547363   \n12         12    Johnson High School  District  4761  3094650   \n13         13       Ford High School  District  2739  1763916   \n14         14     Thomas High School   Charter  1635  1043130   \n\n    Per Student Budget  avg reading score  avg math score  math_score  \\\n0                655.0          81.182722       76.629414        1916   \n1                639.0          81.158020       76.711767        1946   \n2                600.0          83.725724       83.359455        1653   \n3                652.0          80.934412       77.289752        3094   \n4                625.0          83.816757       83.351499        1371   \n5                578.0          83.989488       83.274201        2143   \n6                582.0          83.975780       83.061895        1749   \n7                628.0          81.033963       77.048432        3318   \n8                581.0          83.814988       83.803279         395   \n9                609.0          84.044699       83.839917         910   \n10               583.0          83.955000       83.682222        1680   \n11               637.0          80.744686       76.842711        2654   \n12               650.0          80.966394       77.072464        3145   \n13               644.0          80.746258       77.102592        1871   \n14               638.0          83.848930       83.418349        1525   \n\n    Math Pass Rate  Reading Pass Rate  \n0         0.656839           0.813164  \n1         0.659885           0.807392  \n2         0.938671           0.958546  \n3         0.667530           0.808630  \n4         0.933924           0.971390  \n5         0.938677           0.965396  \n6         0.941335           0.970398  \n7         0.666801           0.819333  \n8         0.925059           0.962529  \n9         0.945946           0.959459  \n10        0.933333           0.966111  \n11        0.663666           0.802201  \n12        0.660576           0.812224  \n13        0.683096           0.792990  \n14        0.932722           0.973089  "
     },
     "execution_count": 509,
     "metadata": {},
     "output_type": "execute_result"
    }
   ],
   "source": [
    "#concatenate the math pass rate to the summary table\n",
    "school_data_summary6=pd.concat([school_data_summary5, readingpassrate],axis=1)\n",
    "\n",
    "school_data_summary7=school_data_summary6.rename(columns={0:\"Reading Pass Rate\"})\n",
    "\n",
    "school_data_summary7"
   ]
  },
  {
   "cell_type": "code",
   "execution_count": 510,
   "metadata": {},
   "outputs": [
    {
     "data": {
      "text/plain": "0     0.735002\n1     0.733639\n2     0.948609\n3     0.738080\n4     0.952657\n5     0.952037\n6     0.955867\n7     0.743067\n8     0.943794\n9     0.952703\n10    0.949722\n11    0.732933\n12    0.736400\n13    0.738043\n14    0.952905\ndtype: float64"
     },
     "execution_count": 510,
     "metadata": {},
     "output_type": "execute_result"
    }
   ],
   "source": [
    "#calculate overall passrate\n",
    "overallpassrate = (school_data_summary7[\"Math Pass Rate\"]+school_data_summary7[\"Reading Pass Rate\"])/2\n",
    "overallpassrate"
   ]
  },
  {
   "cell_type": "code",
   "execution_count": 511,
   "metadata": {},
   "outputs": [
    {
     "data": {
      "text/html": "<div>\n<style scoped>\n    .dataframe tbody tr th:only-of-type {\n        vertical-align: middle;\n    }\n\n    .dataframe tbody tr th {\n        vertical-align: top;\n    }\n\n    .dataframe thead th {\n        text-align: right;\n    }\n</style>\n<table border=\"1\" class=\"dataframe\">\n  <thead>\n    <tr style=\"text-align: right;\">\n      <th></th>\n      <th>School ID</th>\n      <th>school_name</th>\n      <th>type</th>\n      <th>size</th>\n      <th>budget</th>\n      <th>Per Student Budget</th>\n      <th>avg reading score</th>\n      <th>avg math score</th>\n      <th>math_score</th>\n      <th>Math Pass Rate</th>\n      <th>Reading Pass Rate</th>\n      <th>Overall Pass Rate</th>\n    </tr>\n  </thead>\n  <tbody>\n    <tr>\n      <td>0</td>\n      <td>0</td>\n      <td>Huang High School</td>\n      <td>District</td>\n      <td>2917</td>\n      <td>1910635</td>\n      <td>655.0</td>\n      <td>81.182722</td>\n      <td>76.629414</td>\n      <td>1916</td>\n      <td>0.656839</td>\n      <td>0.813164</td>\n      <td>0.735002</td>\n    </tr>\n    <tr>\n      <td>1</td>\n      <td>1</td>\n      <td>Figueroa High School</td>\n      <td>District</td>\n      <td>2949</td>\n      <td>1884411</td>\n      <td>639.0</td>\n      <td>81.158020</td>\n      <td>76.711767</td>\n      <td>1946</td>\n      <td>0.659885</td>\n      <td>0.807392</td>\n      <td>0.733639</td>\n    </tr>\n    <tr>\n      <td>2</td>\n      <td>2</td>\n      <td>Shelton High School</td>\n      <td>Charter</td>\n      <td>1761</td>\n      <td>1056600</td>\n      <td>600.0</td>\n      <td>83.725724</td>\n      <td>83.359455</td>\n      <td>1653</td>\n      <td>0.938671</td>\n      <td>0.958546</td>\n      <td>0.948609</td>\n    </tr>\n    <tr>\n      <td>3</td>\n      <td>3</td>\n      <td>Hernandez High School</td>\n      <td>District</td>\n      <td>4635</td>\n      <td>3022020</td>\n      <td>652.0</td>\n      <td>80.934412</td>\n      <td>77.289752</td>\n      <td>3094</td>\n      <td>0.667530</td>\n      <td>0.808630</td>\n      <td>0.738080</td>\n    </tr>\n    <tr>\n      <td>4</td>\n      <td>4</td>\n      <td>Griffin High School</td>\n      <td>Charter</td>\n      <td>1468</td>\n      <td>917500</td>\n      <td>625.0</td>\n      <td>83.816757</td>\n      <td>83.351499</td>\n      <td>1371</td>\n      <td>0.933924</td>\n      <td>0.971390</td>\n      <td>0.952657</td>\n    </tr>\n    <tr>\n      <td>5</td>\n      <td>5</td>\n      <td>Wilson High School</td>\n      <td>Charter</td>\n      <td>2283</td>\n      <td>1319574</td>\n      <td>578.0</td>\n      <td>83.989488</td>\n      <td>83.274201</td>\n      <td>2143</td>\n      <td>0.938677</td>\n      <td>0.965396</td>\n      <td>0.952037</td>\n    </tr>\n    <tr>\n      <td>6</td>\n      <td>6</td>\n      <td>Cabrera High School</td>\n      <td>Charter</td>\n      <td>1858</td>\n      <td>1081356</td>\n      <td>582.0</td>\n      <td>83.975780</td>\n      <td>83.061895</td>\n      <td>1749</td>\n      <td>0.941335</td>\n      <td>0.970398</td>\n      <td>0.955867</td>\n    </tr>\n    <tr>\n      <td>7</td>\n      <td>7</td>\n      <td>Bailey High School</td>\n      <td>District</td>\n      <td>4976</td>\n      <td>3124928</td>\n      <td>628.0</td>\n      <td>81.033963</td>\n      <td>77.048432</td>\n      <td>3318</td>\n      <td>0.666801</td>\n      <td>0.819333</td>\n      <td>0.743067</td>\n    </tr>\n    <tr>\n      <td>8</td>\n      <td>8</td>\n      <td>Holden High School</td>\n      <td>Charter</td>\n      <td>427</td>\n      <td>248087</td>\n      <td>581.0</td>\n      <td>83.814988</td>\n      <td>83.803279</td>\n      <td>395</td>\n      <td>0.925059</td>\n      <td>0.962529</td>\n      <td>0.943794</td>\n    </tr>\n    <tr>\n      <td>9</td>\n      <td>9</td>\n      <td>Pena High School</td>\n      <td>Charter</td>\n      <td>962</td>\n      <td>585858</td>\n      <td>609.0</td>\n      <td>84.044699</td>\n      <td>83.839917</td>\n      <td>910</td>\n      <td>0.945946</td>\n      <td>0.959459</td>\n      <td>0.952703</td>\n    </tr>\n    <tr>\n      <td>10</td>\n      <td>10</td>\n      <td>Wright High School</td>\n      <td>Charter</td>\n      <td>1800</td>\n      <td>1049400</td>\n      <td>583.0</td>\n      <td>83.955000</td>\n      <td>83.682222</td>\n      <td>1680</td>\n      <td>0.933333</td>\n      <td>0.966111</td>\n      <td>0.949722</td>\n    </tr>\n    <tr>\n      <td>11</td>\n      <td>11</td>\n      <td>Rodriguez High School</td>\n      <td>District</td>\n      <td>3999</td>\n      <td>2547363</td>\n      <td>637.0</td>\n      <td>80.744686</td>\n      <td>76.842711</td>\n      <td>2654</td>\n      <td>0.663666</td>\n      <td>0.802201</td>\n      <td>0.732933</td>\n    </tr>\n    <tr>\n      <td>12</td>\n      <td>12</td>\n      <td>Johnson High School</td>\n      <td>District</td>\n      <td>4761</td>\n      <td>3094650</td>\n      <td>650.0</td>\n      <td>80.966394</td>\n      <td>77.072464</td>\n      <td>3145</td>\n      <td>0.660576</td>\n      <td>0.812224</td>\n      <td>0.736400</td>\n    </tr>\n    <tr>\n      <td>13</td>\n      <td>13</td>\n      <td>Ford High School</td>\n      <td>District</td>\n      <td>2739</td>\n      <td>1763916</td>\n      <td>644.0</td>\n      <td>80.746258</td>\n      <td>77.102592</td>\n      <td>1871</td>\n      <td>0.683096</td>\n      <td>0.792990</td>\n      <td>0.738043</td>\n    </tr>\n    <tr>\n      <td>14</td>\n      <td>14</td>\n      <td>Thomas High School</td>\n      <td>Charter</td>\n      <td>1635</td>\n      <td>1043130</td>\n      <td>638.0</td>\n      <td>83.848930</td>\n      <td>83.418349</td>\n      <td>1525</td>\n      <td>0.932722</td>\n      <td>0.973089</td>\n      <td>0.952905</td>\n    </tr>\n  </tbody>\n</table>\n</div>",
      "text/plain": "    School ID            school_name      type  size   budget  \\\n0           0      Huang High School  District  2917  1910635   \n1           1   Figueroa High School  District  2949  1884411   \n2           2    Shelton High School   Charter  1761  1056600   \n3           3  Hernandez High School  District  4635  3022020   \n4           4    Griffin High School   Charter  1468   917500   \n5           5     Wilson High School   Charter  2283  1319574   \n6           6    Cabrera High School   Charter  1858  1081356   \n7           7     Bailey High School  District  4976  3124928   \n8           8     Holden High School   Charter   427   248087   \n9           9       Pena High School   Charter   962   585858   \n10         10     Wright High School   Charter  1800  1049400   \n11         11  Rodriguez High School  District  3999  2547363   \n12         12    Johnson High School  District  4761  3094650   \n13         13       Ford High School  District  2739  1763916   \n14         14     Thomas High School   Charter  1635  1043130   \n\n    Per Student Budget  avg reading score  avg math score  math_score  \\\n0                655.0          81.182722       76.629414        1916   \n1                639.0          81.158020       76.711767        1946   \n2                600.0          83.725724       83.359455        1653   \n3                652.0          80.934412       77.289752        3094   \n4                625.0          83.816757       83.351499        1371   \n5                578.0          83.989488       83.274201        2143   \n6                582.0          83.975780       83.061895        1749   \n7                628.0          81.033963       77.048432        3318   \n8                581.0          83.814988       83.803279         395   \n9                609.0          84.044699       83.839917         910   \n10               583.0          83.955000       83.682222        1680   \n11               637.0          80.744686       76.842711        2654   \n12               650.0          80.966394       77.072464        3145   \n13               644.0          80.746258       77.102592        1871   \n14               638.0          83.848930       83.418349        1525   \n\n    Math Pass Rate  Reading Pass Rate  Overall Pass Rate  \n0         0.656839           0.813164           0.735002  \n1         0.659885           0.807392           0.733639  \n2         0.938671           0.958546           0.948609  \n3         0.667530           0.808630           0.738080  \n4         0.933924           0.971390           0.952657  \n5         0.938677           0.965396           0.952037  \n6         0.941335           0.970398           0.955867  \n7         0.666801           0.819333           0.743067  \n8         0.925059           0.962529           0.943794  \n9         0.945946           0.959459           0.952703  \n10        0.933333           0.966111           0.949722  \n11        0.663666           0.802201           0.732933  \n12        0.660576           0.812224           0.736400  \n13        0.683096           0.792990           0.738043  \n14        0.932722           0.973089           0.952905  "
     },
     "execution_count": 511,
     "metadata": {},
     "output_type": "execute_result"
    }
   ],
   "source": [
    "#concatenate the overall pass rate to the summary table\n",
    "school_data_summary8=pd.concat([school_data_summary7, overallpassrate],axis=1)\n",
    "\n",
    "school_data_summary9=school_data_summary8.rename(columns={0:\"Overall Pass Rate\"})\n",
    "\n",
    "school_data_summary9"
   ]
  },
  {
   "cell_type": "code",
   "execution_count": 512,
   "metadata": {},
   "outputs": [
    {
     "data": {
      "text/html": "<div>\n<style scoped>\n    .dataframe tbody tr th:only-of-type {\n        vertical-align: middle;\n    }\n\n    .dataframe tbody tr th {\n        vertical-align: top;\n    }\n\n    .dataframe thead th {\n        text-align: right;\n    }\n</style>\n<table border=\"1\" class=\"dataframe\">\n  <thead>\n    <tr style=\"text-align: right;\">\n      <th></th>\n      <th>school_name</th>\n      <th>type</th>\n      <th>size</th>\n      <th>budget</th>\n      <th>Per Student Budget</th>\n      <th>avg math score</th>\n      <th>avg reading score</th>\n      <th>Math Pass Rate</th>\n      <th>Reading Pass Rate</th>\n      <th>Overall Pass Rate</th>\n    </tr>\n  </thead>\n  <tbody>\n    <tr>\n      <td>0</td>\n      <td>Huang High School</td>\n      <td>District</td>\n      <td>2917</td>\n      <td>1910635</td>\n      <td>655.0</td>\n      <td>76.629414</td>\n      <td>81.182722</td>\n      <td>0.656839</td>\n      <td>0.813164</td>\n      <td>0.735002</td>\n    </tr>\n    <tr>\n      <td>1</td>\n      <td>Figueroa High School</td>\n      <td>District</td>\n      <td>2949</td>\n      <td>1884411</td>\n      <td>639.0</td>\n      <td>76.711767</td>\n      <td>81.158020</td>\n      <td>0.659885</td>\n      <td>0.807392</td>\n      <td>0.733639</td>\n    </tr>\n    <tr>\n      <td>2</td>\n      <td>Shelton High School</td>\n      <td>Charter</td>\n      <td>1761</td>\n      <td>1056600</td>\n      <td>600.0</td>\n      <td>83.359455</td>\n      <td>83.725724</td>\n      <td>0.938671</td>\n      <td>0.958546</td>\n      <td>0.948609</td>\n    </tr>\n    <tr>\n      <td>3</td>\n      <td>Hernandez High School</td>\n      <td>District</td>\n      <td>4635</td>\n      <td>3022020</td>\n      <td>652.0</td>\n      <td>77.289752</td>\n      <td>80.934412</td>\n      <td>0.667530</td>\n      <td>0.808630</td>\n      <td>0.738080</td>\n    </tr>\n    <tr>\n      <td>4</td>\n      <td>Griffin High School</td>\n      <td>Charter</td>\n      <td>1468</td>\n      <td>917500</td>\n      <td>625.0</td>\n      <td>83.351499</td>\n      <td>83.816757</td>\n      <td>0.933924</td>\n      <td>0.971390</td>\n      <td>0.952657</td>\n    </tr>\n    <tr>\n      <td>5</td>\n      <td>Wilson High School</td>\n      <td>Charter</td>\n      <td>2283</td>\n      <td>1319574</td>\n      <td>578.0</td>\n      <td>83.274201</td>\n      <td>83.989488</td>\n      <td>0.938677</td>\n      <td>0.965396</td>\n      <td>0.952037</td>\n    </tr>\n    <tr>\n      <td>6</td>\n      <td>Cabrera High School</td>\n      <td>Charter</td>\n      <td>1858</td>\n      <td>1081356</td>\n      <td>582.0</td>\n      <td>83.061895</td>\n      <td>83.975780</td>\n      <td>0.941335</td>\n      <td>0.970398</td>\n      <td>0.955867</td>\n    </tr>\n    <tr>\n      <td>7</td>\n      <td>Bailey High School</td>\n      <td>District</td>\n      <td>4976</td>\n      <td>3124928</td>\n      <td>628.0</td>\n      <td>77.048432</td>\n      <td>81.033963</td>\n      <td>0.666801</td>\n      <td>0.819333</td>\n      <td>0.743067</td>\n    </tr>\n    <tr>\n      <td>8</td>\n      <td>Holden High School</td>\n      <td>Charter</td>\n      <td>427</td>\n      <td>248087</td>\n      <td>581.0</td>\n      <td>83.803279</td>\n      <td>83.814988</td>\n      <td>0.925059</td>\n      <td>0.962529</td>\n      <td>0.943794</td>\n    </tr>\n    <tr>\n      <td>9</td>\n      <td>Pena High School</td>\n      <td>Charter</td>\n      <td>962</td>\n      <td>585858</td>\n      <td>609.0</td>\n      <td>83.839917</td>\n      <td>84.044699</td>\n      <td>0.945946</td>\n      <td>0.959459</td>\n      <td>0.952703</td>\n    </tr>\n    <tr>\n      <td>10</td>\n      <td>Wright High School</td>\n      <td>Charter</td>\n      <td>1800</td>\n      <td>1049400</td>\n      <td>583.0</td>\n      <td>83.682222</td>\n      <td>83.955000</td>\n      <td>0.933333</td>\n      <td>0.966111</td>\n      <td>0.949722</td>\n    </tr>\n    <tr>\n      <td>11</td>\n      <td>Rodriguez High School</td>\n      <td>District</td>\n      <td>3999</td>\n      <td>2547363</td>\n      <td>637.0</td>\n      <td>76.842711</td>\n      <td>80.744686</td>\n      <td>0.663666</td>\n      <td>0.802201</td>\n      <td>0.732933</td>\n    </tr>\n    <tr>\n      <td>12</td>\n      <td>Johnson High School</td>\n      <td>District</td>\n      <td>4761</td>\n      <td>3094650</td>\n      <td>650.0</td>\n      <td>77.072464</td>\n      <td>80.966394</td>\n      <td>0.660576</td>\n      <td>0.812224</td>\n      <td>0.736400</td>\n    </tr>\n    <tr>\n      <td>13</td>\n      <td>Ford High School</td>\n      <td>District</td>\n      <td>2739</td>\n      <td>1763916</td>\n      <td>644.0</td>\n      <td>77.102592</td>\n      <td>80.746258</td>\n      <td>0.683096</td>\n      <td>0.792990</td>\n      <td>0.738043</td>\n    </tr>\n    <tr>\n      <td>14</td>\n      <td>Thomas High School</td>\n      <td>Charter</td>\n      <td>1635</td>\n      <td>1043130</td>\n      <td>638.0</td>\n      <td>83.418349</td>\n      <td>83.848930</td>\n      <td>0.932722</td>\n      <td>0.973089</td>\n      <td>0.952905</td>\n    </tr>\n  </tbody>\n</table>\n</div>",
      "text/plain": "              school_name      type  size   budget  Per Student Budget  \\\n0       Huang High School  District  2917  1910635               655.0   \n1    Figueroa High School  District  2949  1884411               639.0   \n2     Shelton High School   Charter  1761  1056600               600.0   \n3   Hernandez High School  District  4635  3022020               652.0   \n4     Griffin High School   Charter  1468   917500               625.0   \n5      Wilson High School   Charter  2283  1319574               578.0   \n6     Cabrera High School   Charter  1858  1081356               582.0   \n7      Bailey High School  District  4976  3124928               628.0   \n8      Holden High School   Charter   427   248087               581.0   \n9        Pena High School   Charter   962   585858               609.0   \n10     Wright High School   Charter  1800  1049400               583.0   \n11  Rodriguez High School  District  3999  2547363               637.0   \n12    Johnson High School  District  4761  3094650               650.0   \n13       Ford High School  District  2739  1763916               644.0   \n14     Thomas High School   Charter  1635  1043130               638.0   \n\n    avg math score  avg reading score  Math Pass Rate  Reading Pass Rate  \\\n0        76.629414          81.182722        0.656839           0.813164   \n1        76.711767          81.158020        0.659885           0.807392   \n2        83.359455          83.725724        0.938671           0.958546   \n3        77.289752          80.934412        0.667530           0.808630   \n4        83.351499          83.816757        0.933924           0.971390   \n5        83.274201          83.989488        0.938677           0.965396   \n6        83.061895          83.975780        0.941335           0.970398   \n7        77.048432          81.033963        0.666801           0.819333   \n8        83.803279          83.814988        0.925059           0.962529   \n9        83.839917          84.044699        0.945946           0.959459   \n10       83.682222          83.955000        0.933333           0.966111   \n11       76.842711          80.744686        0.663666           0.802201   \n12       77.072464          80.966394        0.660576           0.812224   \n13       77.102592          80.746258        0.683096           0.792990   \n14       83.418349          83.848930        0.932722           0.973089   \n\n    Overall Pass Rate  \n0            0.735002  \n1            0.733639  \n2            0.948609  \n3            0.738080  \n4            0.952657  \n5            0.952037  \n6            0.955867  \n7            0.743067  \n8            0.943794  \n9            0.952703  \n10           0.949722  \n11           0.732933  \n12           0.736400  \n13           0.738043  \n14           0.952905  "
     },
     "execution_count": 512,
     "metadata": {},
     "output_type": "execute_result"
    }
   ],
   "source": [
    "#final school summary\n",
    "\n",
    "final_school_summary = school_data_summary9[[\"school_name\",\"type\",\"size\",\"budget\",\"Per Student Budget\",\"avg math score\",\"avg reading score\",\"Math Pass Rate\",\"Reading Pass Rate\",\"Overall Pass Rate\"]]\n",
    "\n",
    "final_school_summary"
   ]
  },
  {
   "cell_type": "markdown",
   "metadata": {},
   "source": [
    "## School Summary"
   ]
  },
  {
   "cell_type": "markdown",
   "metadata": {},
   "source": [
    "* Create an overview table that summarizes key metrics about each school, including:\n",
    "  * School Name\n",
    "  * School Type\n",
    "  * Total Students\n",
    "  * Total School Budget\n",
    "  * Per Student Budget\n",
    "  * Average Math Score\n",
    "  * Average Reading Score\n",
    "  * % Passing Math\n",
    "  * % Passing Reading\n",
    "  * Overall Passing Rate (Average of the above two)\n",
    "  \n",
    "* Create a dataframe to hold the above results"
   ]
  },
  {
   "cell_type": "markdown",
   "metadata": {},
   "source": [
    "## Top Performing Schools (By Passing Rate)"
   ]
  },
  {
   "cell_type": "markdown",
   "metadata": {},
   "source": [
    "* Sort and display the top five schools in overall passing rate"
   ]
  },
  {
   "cell_type": "code",
   "execution_count": 513,
   "metadata": {},
   "outputs": [
    {
     "data": {
      "text/html": "<div>\n<style scoped>\n    .dataframe tbody tr th:only-of-type {\n        vertical-align: middle;\n    }\n\n    .dataframe tbody tr th {\n        vertical-align: top;\n    }\n\n    .dataframe thead th {\n        text-align: right;\n    }\n</style>\n<table border=\"1\" class=\"dataframe\">\n  <thead>\n    <tr style=\"text-align: right;\">\n      <th></th>\n      <th>school_name</th>\n      <th>type</th>\n      <th>size</th>\n      <th>budget</th>\n      <th>Per Student Budget</th>\n      <th>avg math score</th>\n      <th>avg reading score</th>\n      <th>Math Pass Rate</th>\n      <th>Reading Pass Rate</th>\n      <th>Overall Pass Rate</th>\n    </tr>\n  </thead>\n  <tbody>\n    <tr>\n      <td>6</td>\n      <td>Cabrera High School</td>\n      <td>Charter</td>\n      <td>1858</td>\n      <td>1081356</td>\n      <td>582.0</td>\n      <td>83.061895</td>\n      <td>83.975780</td>\n      <td>0.941335</td>\n      <td>0.970398</td>\n      <td>0.955867</td>\n    </tr>\n    <tr>\n      <td>14</td>\n      <td>Thomas High School</td>\n      <td>Charter</td>\n      <td>1635</td>\n      <td>1043130</td>\n      <td>638.0</td>\n      <td>83.418349</td>\n      <td>83.848930</td>\n      <td>0.932722</td>\n      <td>0.973089</td>\n      <td>0.952905</td>\n    </tr>\n    <tr>\n      <td>9</td>\n      <td>Pena High School</td>\n      <td>Charter</td>\n      <td>962</td>\n      <td>585858</td>\n      <td>609.0</td>\n      <td>83.839917</td>\n      <td>84.044699</td>\n      <td>0.945946</td>\n      <td>0.959459</td>\n      <td>0.952703</td>\n    </tr>\n    <tr>\n      <td>4</td>\n      <td>Griffin High School</td>\n      <td>Charter</td>\n      <td>1468</td>\n      <td>917500</td>\n      <td>625.0</td>\n      <td>83.351499</td>\n      <td>83.816757</td>\n      <td>0.933924</td>\n      <td>0.971390</td>\n      <td>0.952657</td>\n    </tr>\n    <tr>\n      <td>5</td>\n      <td>Wilson High School</td>\n      <td>Charter</td>\n      <td>2283</td>\n      <td>1319574</td>\n      <td>578.0</td>\n      <td>83.274201</td>\n      <td>83.989488</td>\n      <td>0.938677</td>\n      <td>0.965396</td>\n      <td>0.952037</td>\n    </tr>\n    <tr>\n      <td>10</td>\n      <td>Wright High School</td>\n      <td>Charter</td>\n      <td>1800</td>\n      <td>1049400</td>\n      <td>583.0</td>\n      <td>83.682222</td>\n      <td>83.955000</td>\n      <td>0.933333</td>\n      <td>0.966111</td>\n      <td>0.949722</td>\n    </tr>\n    <tr>\n      <td>2</td>\n      <td>Shelton High School</td>\n      <td>Charter</td>\n      <td>1761</td>\n      <td>1056600</td>\n      <td>600.0</td>\n      <td>83.359455</td>\n      <td>83.725724</td>\n      <td>0.938671</td>\n      <td>0.958546</td>\n      <td>0.948609</td>\n    </tr>\n    <tr>\n      <td>8</td>\n      <td>Holden High School</td>\n      <td>Charter</td>\n      <td>427</td>\n      <td>248087</td>\n      <td>581.0</td>\n      <td>83.803279</td>\n      <td>83.814988</td>\n      <td>0.925059</td>\n      <td>0.962529</td>\n      <td>0.943794</td>\n    </tr>\n    <tr>\n      <td>7</td>\n      <td>Bailey High School</td>\n      <td>District</td>\n      <td>4976</td>\n      <td>3124928</td>\n      <td>628.0</td>\n      <td>77.048432</td>\n      <td>81.033963</td>\n      <td>0.666801</td>\n      <td>0.819333</td>\n      <td>0.743067</td>\n    </tr>\n    <tr>\n      <td>3</td>\n      <td>Hernandez High School</td>\n      <td>District</td>\n      <td>4635</td>\n      <td>3022020</td>\n      <td>652.0</td>\n      <td>77.289752</td>\n      <td>80.934412</td>\n      <td>0.667530</td>\n      <td>0.808630</td>\n      <td>0.738080</td>\n    </tr>\n    <tr>\n      <td>13</td>\n      <td>Ford High School</td>\n      <td>District</td>\n      <td>2739</td>\n      <td>1763916</td>\n      <td>644.0</td>\n      <td>77.102592</td>\n      <td>80.746258</td>\n      <td>0.683096</td>\n      <td>0.792990</td>\n      <td>0.738043</td>\n    </tr>\n    <tr>\n      <td>12</td>\n      <td>Johnson High School</td>\n      <td>District</td>\n      <td>4761</td>\n      <td>3094650</td>\n      <td>650.0</td>\n      <td>77.072464</td>\n      <td>80.966394</td>\n      <td>0.660576</td>\n      <td>0.812224</td>\n      <td>0.736400</td>\n    </tr>\n    <tr>\n      <td>0</td>\n      <td>Huang High School</td>\n      <td>District</td>\n      <td>2917</td>\n      <td>1910635</td>\n      <td>655.0</td>\n      <td>76.629414</td>\n      <td>81.182722</td>\n      <td>0.656839</td>\n      <td>0.813164</td>\n      <td>0.735002</td>\n    </tr>\n    <tr>\n      <td>1</td>\n      <td>Figueroa High School</td>\n      <td>District</td>\n      <td>2949</td>\n      <td>1884411</td>\n      <td>639.0</td>\n      <td>76.711767</td>\n      <td>81.158020</td>\n      <td>0.659885</td>\n      <td>0.807392</td>\n      <td>0.733639</td>\n    </tr>\n    <tr>\n      <td>11</td>\n      <td>Rodriguez High School</td>\n      <td>District</td>\n      <td>3999</td>\n      <td>2547363</td>\n      <td>637.0</td>\n      <td>76.842711</td>\n      <td>80.744686</td>\n      <td>0.663666</td>\n      <td>0.802201</td>\n      <td>0.732933</td>\n    </tr>\n  </tbody>\n</table>\n</div>",
      "text/plain": "              school_name      type  size   budget  Per Student Budget  \\\n6     Cabrera High School   Charter  1858  1081356               582.0   \n14     Thomas High School   Charter  1635  1043130               638.0   \n9        Pena High School   Charter   962   585858               609.0   \n4     Griffin High School   Charter  1468   917500               625.0   \n5      Wilson High School   Charter  2283  1319574               578.0   \n10     Wright High School   Charter  1800  1049400               583.0   \n2     Shelton High School   Charter  1761  1056600               600.0   \n8      Holden High School   Charter   427   248087               581.0   \n7      Bailey High School  District  4976  3124928               628.0   \n3   Hernandez High School  District  4635  3022020               652.0   \n13       Ford High School  District  2739  1763916               644.0   \n12    Johnson High School  District  4761  3094650               650.0   \n0       Huang High School  District  2917  1910635               655.0   \n1    Figueroa High School  District  2949  1884411               639.0   \n11  Rodriguez High School  District  3999  2547363               637.0   \n\n    avg math score  avg reading score  Math Pass Rate  Reading Pass Rate  \\\n6        83.061895          83.975780        0.941335           0.970398   \n14       83.418349          83.848930        0.932722           0.973089   \n9        83.839917          84.044699        0.945946           0.959459   \n4        83.351499          83.816757        0.933924           0.971390   \n5        83.274201          83.989488        0.938677           0.965396   \n10       83.682222          83.955000        0.933333           0.966111   \n2        83.359455          83.725724        0.938671           0.958546   \n8        83.803279          83.814988        0.925059           0.962529   \n7        77.048432          81.033963        0.666801           0.819333   \n3        77.289752          80.934412        0.667530           0.808630   \n13       77.102592          80.746258        0.683096           0.792990   \n12       77.072464          80.966394        0.660576           0.812224   \n0        76.629414          81.182722        0.656839           0.813164   \n1        76.711767          81.158020        0.659885           0.807392   \n11       76.842711          80.744686        0.663666           0.802201   \n\n    Overall Pass Rate  \n6            0.955867  \n14           0.952905  \n9            0.952703  \n4            0.952657  \n5            0.952037  \n10           0.949722  \n2            0.948609  \n8            0.943794  \n7            0.743067  \n3            0.738080  \n13           0.738043  \n12           0.736400  \n0            0.735002  \n1            0.733639  \n11           0.732933  "
     },
     "execution_count": 513,
     "metadata": {},
     "output_type": "execute_result"
    }
   ],
   "source": [
    "topoverall = final_school_summary.sort_values(\"Overall Pass Rate\", ascending=False)\n",
    "\n",
    "topoverall"
   ]
  },
  {
   "cell_type": "code",
   "execution_count": 514,
   "metadata": {},
   "outputs": [
    {
     "data": {
      "text/html": "<div>\n<style scoped>\n    .dataframe tbody tr th:only-of-type {\n        vertical-align: middle;\n    }\n\n    .dataframe tbody tr th {\n        vertical-align: top;\n    }\n\n    .dataframe thead th {\n        text-align: right;\n    }\n</style>\n<table border=\"1\" class=\"dataframe\">\n  <thead>\n    <tr style=\"text-align: right;\">\n      <th></th>\n      <th>school_name</th>\n      <th>type</th>\n      <th>size</th>\n      <th>budget</th>\n      <th>Per Student Budget</th>\n      <th>avg math score</th>\n      <th>avg reading score</th>\n      <th>Math Pass Rate</th>\n      <th>Reading Pass Rate</th>\n      <th>Overall Pass Rate</th>\n    </tr>\n  </thead>\n  <tbody>\n    <tr>\n      <td>6</td>\n      <td>Cabrera High School</td>\n      <td>Charter</td>\n      <td>1858</td>\n      <td>1081356</td>\n      <td>582.0</td>\n      <td>83.061895</td>\n      <td>83.975780</td>\n      <td>0.941335</td>\n      <td>0.970398</td>\n      <td>0.955867</td>\n    </tr>\n    <tr>\n      <td>14</td>\n      <td>Thomas High School</td>\n      <td>Charter</td>\n      <td>1635</td>\n      <td>1043130</td>\n      <td>638.0</td>\n      <td>83.418349</td>\n      <td>83.848930</td>\n      <td>0.932722</td>\n      <td>0.973089</td>\n      <td>0.952905</td>\n    </tr>\n    <tr>\n      <td>9</td>\n      <td>Pena High School</td>\n      <td>Charter</td>\n      <td>962</td>\n      <td>585858</td>\n      <td>609.0</td>\n      <td>83.839917</td>\n      <td>84.044699</td>\n      <td>0.945946</td>\n      <td>0.959459</td>\n      <td>0.952703</td>\n    </tr>\n    <tr>\n      <td>4</td>\n      <td>Griffin High School</td>\n      <td>Charter</td>\n      <td>1468</td>\n      <td>917500</td>\n      <td>625.0</td>\n      <td>83.351499</td>\n      <td>83.816757</td>\n      <td>0.933924</td>\n      <td>0.971390</td>\n      <td>0.952657</td>\n    </tr>\n    <tr>\n      <td>5</td>\n      <td>Wilson High School</td>\n      <td>Charter</td>\n      <td>2283</td>\n      <td>1319574</td>\n      <td>578.0</td>\n      <td>83.274201</td>\n      <td>83.989488</td>\n      <td>0.938677</td>\n      <td>0.965396</td>\n      <td>0.952037</td>\n    </tr>\n  </tbody>\n</table>\n</div>",
      "text/plain": "            school_name     type  size   budget  Per Student Budget  \\\n6   Cabrera High School  Charter  1858  1081356               582.0   \n14   Thomas High School  Charter  1635  1043130               638.0   \n9      Pena High School  Charter   962   585858               609.0   \n4   Griffin High School  Charter  1468   917500               625.0   \n5    Wilson High School  Charter  2283  1319574               578.0   \n\n    avg math score  avg reading score  Math Pass Rate  Reading Pass Rate  \\\n6        83.061895          83.975780        0.941335           0.970398   \n14       83.418349          83.848930        0.932722           0.973089   \n9        83.839917          84.044699        0.945946           0.959459   \n4        83.351499          83.816757        0.933924           0.971390   \n5        83.274201          83.989488        0.938677           0.965396   \n\n    Overall Pass Rate  \n6            0.955867  \n14           0.952905  \n9            0.952703  \n4            0.952657  \n5            0.952037  "
     },
     "execution_count": 514,
     "metadata": {},
     "output_type": "execute_result"
    }
   ],
   "source": [
    "#pull top 5 in overall pass rate\n",
    "topoverallsummary = topoverall.nlargest(5,\"Overall Pass Rate\")\n",
    "\n",
    "topoverallsummary"
   ]
  },
  {
   "cell_type": "markdown",
   "metadata": {},
   "source": [
    "## Bottom Performing Schools (By Passing Rate)"
   ]
  },
  {
   "cell_type": "code",
   "execution_count": 515,
   "metadata": {},
   "outputs": [
    {
     "data": {
      "text/html": "<div>\n<style scoped>\n    .dataframe tbody tr th:only-of-type {\n        vertical-align: middle;\n    }\n\n    .dataframe tbody tr th {\n        vertical-align: top;\n    }\n\n    .dataframe thead th {\n        text-align: right;\n    }\n</style>\n<table border=\"1\" class=\"dataframe\">\n  <thead>\n    <tr style=\"text-align: right;\">\n      <th></th>\n      <th>school_name</th>\n      <th>type</th>\n      <th>size</th>\n      <th>budget</th>\n      <th>Per Student Budget</th>\n      <th>avg math score</th>\n      <th>avg reading score</th>\n      <th>Math Pass Rate</th>\n      <th>Reading Pass Rate</th>\n      <th>Overall Pass Rate</th>\n    </tr>\n  </thead>\n  <tbody>\n    <tr>\n      <td>11</td>\n      <td>Rodriguez High School</td>\n      <td>District</td>\n      <td>3999</td>\n      <td>2547363</td>\n      <td>637.0</td>\n      <td>76.842711</td>\n      <td>80.744686</td>\n      <td>0.663666</td>\n      <td>0.802201</td>\n      <td>0.732933</td>\n    </tr>\n    <tr>\n      <td>1</td>\n      <td>Figueroa High School</td>\n      <td>District</td>\n      <td>2949</td>\n      <td>1884411</td>\n      <td>639.0</td>\n      <td>76.711767</td>\n      <td>81.158020</td>\n      <td>0.659885</td>\n      <td>0.807392</td>\n      <td>0.733639</td>\n    </tr>\n    <tr>\n      <td>0</td>\n      <td>Huang High School</td>\n      <td>District</td>\n      <td>2917</td>\n      <td>1910635</td>\n      <td>655.0</td>\n      <td>76.629414</td>\n      <td>81.182722</td>\n      <td>0.656839</td>\n      <td>0.813164</td>\n      <td>0.735002</td>\n    </tr>\n    <tr>\n      <td>12</td>\n      <td>Johnson High School</td>\n      <td>District</td>\n      <td>4761</td>\n      <td>3094650</td>\n      <td>650.0</td>\n      <td>77.072464</td>\n      <td>80.966394</td>\n      <td>0.660576</td>\n      <td>0.812224</td>\n      <td>0.736400</td>\n    </tr>\n    <tr>\n      <td>13</td>\n      <td>Ford High School</td>\n      <td>District</td>\n      <td>2739</td>\n      <td>1763916</td>\n      <td>644.0</td>\n      <td>77.102592</td>\n      <td>80.746258</td>\n      <td>0.683096</td>\n      <td>0.792990</td>\n      <td>0.738043</td>\n    </tr>\n  </tbody>\n</table>\n</div>",
      "text/plain": "              school_name      type  size   budget  Per Student Budget  \\\n11  Rodriguez High School  District  3999  2547363               637.0   \n1    Figueroa High School  District  2949  1884411               639.0   \n0       Huang High School  District  2917  1910635               655.0   \n12    Johnson High School  District  4761  3094650               650.0   \n13       Ford High School  District  2739  1763916               644.0   \n\n    avg math score  avg reading score  Math Pass Rate  Reading Pass Rate  \\\n11       76.842711          80.744686        0.663666           0.802201   \n1        76.711767          81.158020        0.659885           0.807392   \n0        76.629414          81.182722        0.656839           0.813164   \n12       77.072464          80.966394        0.660576           0.812224   \n13       77.102592          80.746258        0.683096           0.792990   \n\n    Overall Pass Rate  \n11           0.732933  \n1            0.733639  \n0            0.735002  \n12           0.736400  \n13           0.738043  "
     },
     "execution_count": 515,
     "metadata": {},
     "output_type": "execute_result"
    }
   ],
   "source": [
    "#pull bottom 5 performing schools by passrate\n",
    "bottomoverallsummary = topoverall.nsmallest(5,\"Overall Pass Rate\")\n",
    "\n",
    "bottomoverallsummary"
   ]
  },
  {
   "cell_type": "code",
   "execution_count": 14,
   "metadata": {},
   "outputs": [
    {
     "data": {
      "text/html": [
       "<div>\n",
       "<style scoped>\n",
       "    .dataframe tbody tr th:only-of-type {\n",
       "        vertical-align: middle;\n",
       "    }\n",
       "\n",
       "    .dataframe tbody tr th {\n",
       "        vertical-align: top;\n",
       "    }\n",
       "\n",
       "    .dataframe thead th {\n",
       "        text-align: right;\n",
       "    }\n",
       "</style>\n",
       "<table border=\"1\" class=\"dataframe\">\n",
       "  <thead>\n",
       "    <tr style=\"text-align: right;\">\n",
       "      <th></th>\n",
       "      <th>School Type</th>\n",
       "      <th>Total Students</th>\n",
       "      <th>Total School Budget</th>\n",
       "      <th>Per Student Budget</th>\n",
       "      <th>Average Math Score</th>\n",
       "      <th>Average Reading Score</th>\n",
       "      <th>% Passing Math</th>\n",
       "      <th>% Passing Reading</th>\n",
       "      <th>% Overall Passing Rate</th>\n",
       "    </tr>\n",
       "  </thead>\n",
       "  <tbody>\n",
       "    <tr>\n",
       "      <th>Rodriguez High School</th>\n",
       "      <td>District</td>\n",
       "      <td>3999</td>\n",
       "      <td>$2,547,363.00</td>\n",
       "      <td>$637.00</td>\n",
       "      <td>76.842711</td>\n",
       "      <td>80.744686</td>\n",
       "      <td>66.366592</td>\n",
       "      <td>80.220055</td>\n",
       "      <td>73.293323</td>\n",
       "    </tr>\n",
       "    <tr>\n",
       "      <th>Figueroa High School</th>\n",
       "      <td>District</td>\n",
       "      <td>2949</td>\n",
       "      <td>$1,884,411.00</td>\n",
       "      <td>$639.00</td>\n",
       "      <td>76.711767</td>\n",
       "      <td>81.158020</td>\n",
       "      <td>65.988471</td>\n",
       "      <td>80.739234</td>\n",
       "      <td>73.363852</td>\n",
       "    </tr>\n",
       "    <tr>\n",
       "      <th>Huang High School</th>\n",
       "      <td>District</td>\n",
       "      <td>2917</td>\n",
       "      <td>$1,910,635.00</td>\n",
       "      <td>$655.00</td>\n",
       "      <td>76.629414</td>\n",
       "      <td>81.182722</td>\n",
       "      <td>65.683922</td>\n",
       "      <td>81.316421</td>\n",
       "      <td>73.500171</td>\n",
       "    </tr>\n",
       "    <tr>\n",
       "      <th>Johnson High School</th>\n",
       "      <td>District</td>\n",
       "      <td>4761</td>\n",
       "      <td>$3,094,650.00</td>\n",
       "      <td>$650.00</td>\n",
       "      <td>77.072464</td>\n",
       "      <td>80.966394</td>\n",
       "      <td>66.057551</td>\n",
       "      <td>81.222432</td>\n",
       "      <td>73.639992</td>\n",
       "    </tr>\n",
       "    <tr>\n",
       "      <th>Ford High School</th>\n",
       "      <td>District</td>\n",
       "      <td>2739</td>\n",
       "      <td>$1,763,916.00</td>\n",
       "      <td>$644.00</td>\n",
       "      <td>77.102592</td>\n",
       "      <td>80.746258</td>\n",
       "      <td>68.309602</td>\n",
       "      <td>79.299014</td>\n",
       "      <td>73.804308</td>\n",
       "    </tr>\n",
       "  </tbody>\n",
       "</table>\n",
       "</div>"
      ],
      "text/plain": [
       "                      School Type  Total Students Total School Budget  \\\n",
       "Rodriguez High School    District            3999       $2,547,363.00   \n",
       "Figueroa High School     District            2949       $1,884,411.00   \n",
       "Huang High School        District            2917       $1,910,635.00   \n",
       "Johnson High School      District            4761       $3,094,650.00   \n",
       "Ford High School         District            2739       $1,763,916.00   \n",
       "\n",
       "                      Per Student Budget  Average Math Score  \\\n",
       "Rodriguez High School            $637.00           76.842711   \n",
       "Figueroa High School             $639.00           76.711767   \n",
       "Huang High School                $655.00           76.629414   \n",
       "Johnson High School              $650.00           77.072464   \n",
       "Ford High School                 $644.00           77.102592   \n",
       "\n",
       "                       Average Reading Score  % Passing Math  \\\n",
       "Rodriguez High School              80.744686       66.366592   \n",
       "Figueroa High School               81.158020       65.988471   \n",
       "Huang High School                  81.182722       65.683922   \n",
       "Johnson High School                80.966394       66.057551   \n",
       "Ford High School                   80.746258       68.309602   \n",
       "\n",
       "                       % Passing Reading  % Overall Passing Rate  \n",
       "Rodriguez High School          80.220055               73.293323  \n",
       "Figueroa High School           80.739234               73.363852  \n",
       "Huang High School              81.316421               73.500171  \n",
       "Johnson High School            81.222432               73.639992  \n",
       "Ford High School               79.299014               73.804308  "
      ]
     },
     "execution_count": 14,
     "metadata": {},
     "output_type": "execute_result"
    }
   ],
   "source": []
  },
  {
   "cell_type": "markdown",
   "metadata": {
    "collapsed": true
   },
   "source": [
    "## Math Scores by Grade"
   ]
  },
  {
   "cell_type": "markdown",
   "metadata": {},
   "source": [
    "* Create a table that lists the average Reading Score for students of each grade level (9th, 10th, 11th, 12th) at each school.\n",
    "\n",
    "  * Create a pandas series for each grade. Hint: use a conditional statement.\n",
    "  \n",
    "  * Group each series by school\n",
    "  \n",
    "  * Combine the series into a dataframe\n",
    "  \n",
    "  * Optional: give the displayed data cleaner formatting"
   ]
  },
  {
   "cell_type": "code",
   "execution_count": 516,
   "metadata": {},
   "outputs": [
    {
     "data": {
      "text/html": "<div>\n<style scoped>\n    .dataframe tbody tr th:only-of-type {\n        vertical-align: middle;\n    }\n\n    .dataframe tbody tr th {\n        vertical-align: top;\n    }\n\n    .dataframe thead th {\n        text-align: right;\n    }\n</style>\n<table border=\"1\" class=\"dataframe\">\n  <thead>\n    <tr style=\"text-align: right;\">\n      <th></th>\n      <th>Student ID</th>\n      <th>student_name</th>\n      <th>gender</th>\n      <th>grade</th>\n      <th>school_name</th>\n      <th>reading_score</th>\n      <th>math_score</th>\n    </tr>\n  </thead>\n  <tbody>\n    <tr>\n      <td>0</td>\n      <td>0</td>\n      <td>Paul Bradley</td>\n      <td>M</td>\n      <td>9th</td>\n      <td>Huang High School</td>\n      <td>66</td>\n      <td>79</td>\n    </tr>\n    <tr>\n      <td>1</td>\n      <td>1</td>\n      <td>Victor Smith</td>\n      <td>M</td>\n      <td>12th</td>\n      <td>Huang High School</td>\n      <td>94</td>\n      <td>61</td>\n    </tr>\n    <tr>\n      <td>2</td>\n      <td>2</td>\n      <td>Kevin Rodriguez</td>\n      <td>M</td>\n      <td>12th</td>\n      <td>Huang High School</td>\n      <td>90</td>\n      <td>60</td>\n    </tr>\n    <tr>\n      <td>3</td>\n      <td>3</td>\n      <td>Dr. Richard Scott</td>\n      <td>M</td>\n      <td>12th</td>\n      <td>Huang High School</td>\n      <td>67</td>\n      <td>58</td>\n    </tr>\n    <tr>\n      <td>4</td>\n      <td>4</td>\n      <td>Bonnie Ray</td>\n      <td>F</td>\n      <td>9th</td>\n      <td>Huang High School</td>\n      <td>97</td>\n      <td>84</td>\n    </tr>\n    <tr>\n      <td>...</td>\n      <td>...</td>\n      <td>...</td>\n      <td>...</td>\n      <td>...</td>\n      <td>...</td>\n      <td>...</td>\n      <td>...</td>\n    </tr>\n    <tr>\n      <td>39165</td>\n      <td>39165</td>\n      <td>Donna Howard</td>\n      <td>F</td>\n      <td>12th</td>\n      <td>Thomas High School</td>\n      <td>99</td>\n      <td>90</td>\n    </tr>\n    <tr>\n      <td>39166</td>\n      <td>39166</td>\n      <td>Dawn Bell</td>\n      <td>F</td>\n      <td>10th</td>\n      <td>Thomas High School</td>\n      <td>95</td>\n      <td>70</td>\n    </tr>\n    <tr>\n      <td>39167</td>\n      <td>39167</td>\n      <td>Rebecca Tanner</td>\n      <td>F</td>\n      <td>9th</td>\n      <td>Thomas High School</td>\n      <td>73</td>\n      <td>84</td>\n    </tr>\n    <tr>\n      <td>39168</td>\n      <td>39168</td>\n      <td>Desiree Kidd</td>\n      <td>F</td>\n      <td>10th</td>\n      <td>Thomas High School</td>\n      <td>99</td>\n      <td>90</td>\n    </tr>\n    <tr>\n      <td>39169</td>\n      <td>39169</td>\n      <td>Carolyn Jackson</td>\n      <td>F</td>\n      <td>11th</td>\n      <td>Thomas High School</td>\n      <td>95</td>\n      <td>75</td>\n    </tr>\n  </tbody>\n</table>\n<p>39170 rows × 7 columns</p>\n</div>",
      "text/plain": "       Student ID       student_name gender grade         school_name  \\\n0               0       Paul Bradley      M   9th   Huang High School   \n1               1       Victor Smith      M  12th   Huang High School   \n2               2    Kevin Rodriguez      M  12th   Huang High School   \n3               3  Dr. Richard Scott      M  12th   Huang High School   \n4               4         Bonnie Ray      F   9th   Huang High School   \n...           ...                ...    ...   ...                 ...   \n39165       39165       Donna Howard      F  12th  Thomas High School   \n39166       39166          Dawn Bell      F  10th  Thomas High School   \n39167       39167     Rebecca Tanner      F   9th  Thomas High School   \n39168       39168       Desiree Kidd      F  10th  Thomas High School   \n39169       39169    Carolyn Jackson      F  11th  Thomas High School   \n\n       reading_score  math_score  \n0                 66          79  \n1                 94          61  \n2                 90          60  \n3                 67          58  \n4                 97          84  \n...              ...         ...  \n39165             99          90  \n39166             95          70  \n39167             73          84  \n39168             99          90  \n39169             95          75  \n\n[39170 rows x 7 columns]"
     },
     "execution_count": 516,
     "metadata": {},
     "output_type": "execute_result"
    }
   ],
   "source": [
    "student_data"
   ]
  },
  {
   "cell_type": "code",
   "execution_count": 517,
   "metadata": {},
   "outputs": [
    {
     "data": {
      "text/html": "<div>\n<style scoped>\n    .dataframe tbody tr th:only-of-type {\n        vertical-align: middle;\n    }\n\n    .dataframe tbody tr th {\n        vertical-align: top;\n    }\n\n    .dataframe thead th {\n        text-align: right;\n    }\n</style>\n<table border=\"1\" class=\"dataframe\">\n  <thead>\n    <tr style=\"text-align: right;\">\n      <th></th>\n      <th>9th Grade Avg Math Score</th>\n    </tr>\n    <tr>\n      <th>school_name</th>\n      <th></th>\n    </tr>\n  </thead>\n  <tbody>\n    <tr>\n      <td>Bailey High School</td>\n      <td>77.083676</td>\n    </tr>\n    <tr>\n      <td>Cabrera High School</td>\n      <td>83.094697</td>\n    </tr>\n    <tr>\n      <td>Figueroa High School</td>\n      <td>76.403037</td>\n    </tr>\n    <tr>\n      <td>Ford High School</td>\n      <td>77.361345</td>\n    </tr>\n    <tr>\n      <td>Griffin High School</td>\n      <td>82.044010</td>\n    </tr>\n  </tbody>\n</table>\n</div>",
      "text/plain": "                      9th Grade Avg Math Score\nschool_name                                   \nBailey High School                   77.083676\nCabrera High School                  83.094697\nFigueroa High School                 76.403037\nFord High School                     77.361345\nGriffin High School                  82.044010"
     },
     "execution_count": 517,
     "metadata": {},
     "output_type": "execute_result"
    }
   ],
   "source": [
    "ninth_math = student_data.loc[student_data[\"grade\"] == \"9th\", :]\n",
    "\n",
    "ninth_math_group = ninth_math.groupby(\"school_name\").agg(np.mean)\n",
    "\n",
    "ninth_math_df = pd.DataFrame(ninth_math_group[\"math_score\"])\n",
    "\n",
    "ninth_math_df = ninth_math_df.rename(columns = {\"math_score\":\"9th Grade Avg Math Score\"})\n",
    "\n",
    "ninth_math_df.head()"
   ]
  },
  {
   "cell_type": "code",
   "execution_count": 518,
   "metadata": {},
   "outputs": [
    {
     "data": {
      "text/html": "<div>\n<style scoped>\n    .dataframe tbody tr th:only-of-type {\n        vertical-align: middle;\n    }\n\n    .dataframe tbody tr th {\n        vertical-align: top;\n    }\n\n    .dataframe thead th {\n        text-align: right;\n    }\n</style>\n<table border=\"1\" class=\"dataframe\">\n  <thead>\n    <tr style=\"text-align: right;\">\n      <th></th>\n      <th>10th Grade Avg Math Score</th>\n    </tr>\n    <tr>\n      <th>school_name</th>\n      <th></th>\n    </tr>\n  </thead>\n  <tbody>\n    <tr>\n      <td>Bailey High School</td>\n      <td>76.996772</td>\n    </tr>\n    <tr>\n      <td>Cabrera High School</td>\n      <td>83.154506</td>\n    </tr>\n    <tr>\n      <td>Figueroa High School</td>\n      <td>76.539974</td>\n    </tr>\n    <tr>\n      <td>Ford High School</td>\n      <td>77.672316</td>\n    </tr>\n    <tr>\n      <td>Griffin High School</td>\n      <td>84.229064</td>\n    </tr>\n  </tbody>\n</table>\n</div>",
      "text/plain": "                      10th Grade Avg Math Score\nschool_name                                    \nBailey High School                    76.996772\nCabrera High School                   83.154506\nFigueroa High School                  76.539974\nFord High School                      77.672316\nGriffin High School                   84.229064"
     },
     "execution_count": 518,
     "metadata": {},
     "output_type": "execute_result"
    }
   ],
   "source": [
    "tenth_math = student_data.loc[student_data[\"grade\"] == \"10th\", :]\n",
    "\n",
    "tenth_math_group = tenth_math.groupby(\"school_name\").agg(np.mean)\n",
    "\n",
    "tenth_math_df = pd.DataFrame(tenth_math_group[\"math_score\"])\n",
    "\n",
    "tenth_math_df = tenth_math_df.rename(columns = {\"math_score\":\"10th Grade Avg Math Score\"})\n",
    "\n",
    "tenth_math_df.head()"
   ]
  },
  {
   "cell_type": "code",
   "execution_count": 519,
   "metadata": {},
   "outputs": [
    {
     "data": {
      "text/html": "<div>\n<style scoped>\n    .dataframe tbody tr th:only-of-type {\n        vertical-align: middle;\n    }\n\n    .dataframe tbody tr th {\n        vertical-align: top;\n    }\n\n    .dataframe thead th {\n        text-align: right;\n    }\n</style>\n<table border=\"1\" class=\"dataframe\">\n  <thead>\n    <tr style=\"text-align: right;\">\n      <th></th>\n      <th>11th Grade Avg Math Score</th>\n    </tr>\n    <tr>\n      <th>school_name</th>\n      <th></th>\n    </tr>\n  </thead>\n  <tbody>\n    <tr>\n      <td>Bailey High School</td>\n      <td>77.515588</td>\n    </tr>\n    <tr>\n      <td>Cabrera High School</td>\n      <td>82.765560</td>\n    </tr>\n    <tr>\n      <td>Figueroa High School</td>\n      <td>76.884344</td>\n    </tr>\n    <tr>\n      <td>Ford High School</td>\n      <td>76.918058</td>\n    </tr>\n    <tr>\n      <td>Griffin High School</td>\n      <td>83.842105</td>\n    </tr>\n  </tbody>\n</table>\n</div>",
      "text/plain": "                      11th Grade Avg Math Score\nschool_name                                    \nBailey High School                    77.515588\nCabrera High School                   82.765560\nFigueroa High School                  76.884344\nFord High School                      76.918058\nGriffin High School                   83.842105"
     },
     "execution_count": 519,
     "metadata": {},
     "output_type": "execute_result"
    }
   ],
   "source": [
    "eleven_math = student_data.loc[student_data[\"grade\"] == \"11th\", :]\n",
    "\n",
    "eleven_math_group = eleven_math.groupby(\"school_name\").agg(np.mean)\n",
    "\n",
    "eleven_math_df = pd.DataFrame(eleven_math_group[\"math_score\"])\n",
    "\n",
    "eleven_math_df = eleven_math_df.rename(columns = {\"math_score\":\"11th Grade Avg Math Score\"})\n",
    "\n",
    "eleven_math_df.head()"
   ]
  },
  {
   "cell_type": "code",
   "execution_count": 520,
   "metadata": {},
   "outputs": [
    {
     "data": {
      "text/html": "<div>\n<style scoped>\n    .dataframe tbody tr th:only-of-type {\n        vertical-align: middle;\n    }\n\n    .dataframe tbody tr th {\n        vertical-align: top;\n    }\n\n    .dataframe thead th {\n        text-align: right;\n    }\n</style>\n<table border=\"1\" class=\"dataframe\">\n  <thead>\n    <tr style=\"text-align: right;\">\n      <th></th>\n      <th>12th Grade Avg Math Score</th>\n    </tr>\n    <tr>\n      <th>school_name</th>\n      <th></th>\n    </tr>\n  </thead>\n  <tbody>\n    <tr>\n      <td>Bailey High School</td>\n      <td>76.492218</td>\n    </tr>\n    <tr>\n      <td>Cabrera High School</td>\n      <td>83.277487</td>\n    </tr>\n    <tr>\n      <td>Figueroa High School</td>\n      <td>77.151369</td>\n    </tr>\n    <tr>\n      <td>Ford High School</td>\n      <td>76.179963</td>\n    </tr>\n    <tr>\n      <td>Griffin High School</td>\n      <td>83.356164</td>\n    </tr>\n  </tbody>\n</table>\n</div>",
      "text/plain": "                      12th Grade Avg Math Score\nschool_name                                    \nBailey High School                    76.492218\nCabrera High School                   83.277487\nFigueroa High School                  77.151369\nFord High School                      76.179963\nGriffin High School                   83.356164"
     },
     "execution_count": 520,
     "metadata": {},
     "output_type": "execute_result"
    }
   ],
   "source": [
    "twelth_math = student_data.loc[student_data[\"grade\"] == \"12th\", :]\n",
    "\n",
    "twelth_math_group = twelth_math.groupby(\"school_name\").agg(np.mean)\n",
    "\n",
    "twelth_math_df = pd.DataFrame(twelth_math_group[\"math_score\"])\n",
    "\n",
    "twelth_math_df = twelth_math_df.rename(columns = {\"math_score\":\"12th Grade Avg Math Score\"})\n",
    "\n",
    "twelth_math_df.head()"
   ]
  },
  {
   "cell_type": "code",
   "execution_count": 521,
   "metadata": {},
   "outputs": [
    {
     "data": {
      "text/html": "<div>\n<style scoped>\n    .dataframe tbody tr th:only-of-type {\n        vertical-align: middle;\n    }\n\n    .dataframe tbody tr th {\n        vertical-align: top;\n    }\n\n    .dataframe thead th {\n        text-align: right;\n    }\n</style>\n<table border=\"1\" class=\"dataframe\">\n  <thead>\n    <tr style=\"text-align: right;\">\n      <th></th>\n      <th>9th Grade Avg Math Score</th>\n      <th>10th Grade Avg Math Score</th>\n      <th>11th Grade Avg Math Score</th>\n      <th>12th Grade Avg Math Score</th>\n    </tr>\n    <tr>\n      <th>school_name</th>\n      <th></th>\n      <th></th>\n      <th></th>\n      <th></th>\n    </tr>\n  </thead>\n  <tbody>\n    <tr>\n      <td>Bailey High School</td>\n      <td>77.083676</td>\n      <td>76.996772</td>\n      <td>77.515588</td>\n      <td>76.492218</td>\n    </tr>\n    <tr>\n      <td>Cabrera High School</td>\n      <td>83.094697</td>\n      <td>83.154506</td>\n      <td>82.765560</td>\n      <td>83.277487</td>\n    </tr>\n    <tr>\n      <td>Figueroa High School</td>\n      <td>76.403037</td>\n      <td>76.539974</td>\n      <td>76.884344</td>\n      <td>77.151369</td>\n    </tr>\n    <tr>\n      <td>Ford High School</td>\n      <td>77.361345</td>\n      <td>77.672316</td>\n      <td>76.918058</td>\n      <td>76.179963</td>\n    </tr>\n    <tr>\n      <td>Griffin High School</td>\n      <td>82.044010</td>\n      <td>84.229064</td>\n      <td>83.842105</td>\n      <td>83.356164</td>\n    </tr>\n    <tr>\n      <td>Hernandez High School</td>\n      <td>77.438495</td>\n      <td>77.337408</td>\n      <td>77.136029</td>\n      <td>77.186567</td>\n    </tr>\n    <tr>\n      <td>Holden High School</td>\n      <td>83.787402</td>\n      <td>83.429825</td>\n      <td>85.000000</td>\n      <td>82.855422</td>\n    </tr>\n    <tr>\n      <td>Huang High School</td>\n      <td>77.027251</td>\n      <td>75.908735</td>\n      <td>76.446602</td>\n      <td>77.225641</td>\n    </tr>\n    <tr>\n      <td>Johnson High School</td>\n      <td>77.187857</td>\n      <td>76.691117</td>\n      <td>77.491653</td>\n      <td>76.863248</td>\n    </tr>\n    <tr>\n      <td>Pena High School</td>\n      <td>83.625455</td>\n      <td>83.372000</td>\n      <td>84.328125</td>\n      <td>84.121547</td>\n    </tr>\n    <tr>\n      <td>Rodriguez High School</td>\n      <td>76.859966</td>\n      <td>76.612500</td>\n      <td>76.395626</td>\n      <td>77.690748</td>\n    </tr>\n    <tr>\n      <td>Shelton High School</td>\n      <td>83.420755</td>\n      <td>82.917411</td>\n      <td>83.383495</td>\n      <td>83.778976</td>\n    </tr>\n    <tr>\n      <td>Thomas High School</td>\n      <td>83.590022</td>\n      <td>83.087886</td>\n      <td>83.498795</td>\n      <td>83.497041</td>\n    </tr>\n    <tr>\n      <td>Wilson High School</td>\n      <td>83.085578</td>\n      <td>83.724422</td>\n      <td>83.195326</td>\n      <td>83.035794</td>\n    </tr>\n    <tr>\n      <td>Wright High School</td>\n      <td>83.264706</td>\n      <td>84.010288</td>\n      <td>83.836782</td>\n      <td>83.644986</td>\n    </tr>\n  </tbody>\n</table>\n</div>",
      "text/plain": "                       9th Grade Avg Math Score  10th Grade Avg Math Score  \\\nschool_name                                                                  \nBailey High School                    77.083676                  76.996772   \nCabrera High School                   83.094697                  83.154506   \nFigueroa High School                  76.403037                  76.539974   \nFord High School                      77.361345                  77.672316   \nGriffin High School                   82.044010                  84.229064   \nHernandez High School                 77.438495                  77.337408   \nHolden High School                    83.787402                  83.429825   \nHuang High School                     77.027251                  75.908735   \nJohnson High School                   77.187857                  76.691117   \nPena High School                      83.625455                  83.372000   \nRodriguez High School                 76.859966                  76.612500   \nShelton High School                   83.420755                  82.917411   \nThomas High School                    83.590022                  83.087886   \nWilson High School                    83.085578                  83.724422   \nWright High School                    83.264706                  84.010288   \n\n                       11th Grade Avg Math Score  12th Grade Avg Math Score  \nschool_name                                                                  \nBailey High School                     77.515588                  76.492218  \nCabrera High School                    82.765560                  83.277487  \nFigueroa High School                   76.884344                  77.151369  \nFord High School                       76.918058                  76.179963  \nGriffin High School                    83.842105                  83.356164  \nHernandez High School                  77.136029                  77.186567  \nHolden High School                     85.000000                  82.855422  \nHuang High School                      76.446602                  77.225641  \nJohnson High School                    77.491653                  76.863248  \nPena High School                       84.328125                  84.121547  \nRodriguez High School                  76.395626                  77.690748  \nShelton High School                    83.383495                  83.778976  \nThomas High School                     83.498795                  83.497041  \nWilson High School                     83.195326                  83.035794  \nWright High School                     83.836782                  83.644986  "
     },
     "execution_count": 521,
     "metadata": {},
     "output_type": "execute_result"
    }
   ],
   "source": [
    "#combine all math scores by grade together\n",
    "combinedmathscores = pd.concat([ninth_math_df,tenth_math_df, eleven_math_df, twelth_math_df], axis=1)\n",
    "\n",
    "combinedmathscores"
   ]
  },
  {
   "cell_type": "markdown",
   "metadata": {},
   "source": [
    "## Reading Score by Grade "
   ]
  },
  {
   "cell_type": "markdown",
   "metadata": {},
   "source": [
    "* Perform the same operations as above for reading scores"
   ]
  },
  {
   "cell_type": "code",
   "execution_count": 522,
   "metadata": {},
   "outputs": [
    {
     "data": {
      "text/html": "<div>\n<style scoped>\n    .dataframe tbody tr th:only-of-type {\n        vertical-align: middle;\n    }\n\n    .dataframe tbody tr th {\n        vertical-align: top;\n    }\n\n    .dataframe thead th {\n        text-align: right;\n    }\n</style>\n<table border=\"1\" class=\"dataframe\">\n  <thead>\n    <tr style=\"text-align: right;\">\n      <th></th>\n      <th>9th Grade Avg Reading Score</th>\n    </tr>\n    <tr>\n      <th>school_name</th>\n      <th></th>\n    </tr>\n  </thead>\n  <tbody>\n    <tr>\n      <td>Bailey High School</td>\n      <td>81.303155</td>\n    </tr>\n    <tr>\n      <td>Cabrera High School</td>\n      <td>83.676136</td>\n    </tr>\n    <tr>\n      <td>Figueroa High School</td>\n      <td>81.198598</td>\n    </tr>\n    <tr>\n      <td>Ford High School</td>\n      <td>80.632653</td>\n    </tr>\n    <tr>\n      <td>Griffin High School</td>\n      <td>83.369193</td>\n    </tr>\n  </tbody>\n</table>\n</div>",
      "text/plain": "                      9th Grade Avg Reading Score\nschool_name                                      \nBailey High School                      81.303155\nCabrera High School                     83.676136\nFigueroa High School                    81.198598\nFord High School                        80.632653\nGriffin High School                     83.369193"
     },
     "execution_count": 522,
     "metadata": {},
     "output_type": "execute_result"
    }
   ],
   "source": [
    "ninth_read = student_data.loc[student_data[\"grade\"] == \"9th\", :]\n",
    "\n",
    "ninth_read_group = ninth_read.groupby(\"school_name\").agg(np.mean)\n",
    "\n",
    "ninth_read_df = pd.DataFrame(ninth_read_group[\"reading_score\"])\n",
    "\n",
    "ninth_read_df = ninth_read_df.rename(columns = {\"reading_score\":\"9th Grade Avg Reading Score\"})\n",
    "\n",
    "ninth_read_df.head()"
   ]
  },
  {
   "cell_type": "code",
   "execution_count": 523,
   "metadata": {},
   "outputs": [
    {
     "data": {
      "text/html": "<div>\n<style scoped>\n    .dataframe tbody tr th:only-of-type {\n        vertical-align: middle;\n    }\n\n    .dataframe tbody tr th {\n        vertical-align: top;\n    }\n\n    .dataframe thead th {\n        text-align: right;\n    }\n</style>\n<table border=\"1\" class=\"dataframe\">\n  <thead>\n    <tr style=\"text-align: right;\">\n      <th></th>\n      <th>reading_score</th>\n    </tr>\n    <tr>\n      <th>school_name</th>\n      <th></th>\n    </tr>\n  </thead>\n  <tbody>\n    <tr>\n      <td>Bailey High School</td>\n      <td>80.907183</td>\n    </tr>\n    <tr>\n      <td>Cabrera High School</td>\n      <td>84.253219</td>\n    </tr>\n    <tr>\n      <td>Figueroa High School</td>\n      <td>81.408912</td>\n    </tr>\n    <tr>\n      <td>Ford High School</td>\n      <td>81.262712</td>\n    </tr>\n    <tr>\n      <td>Griffin High School</td>\n      <td>83.706897</td>\n    </tr>\n  </tbody>\n</table>\n</div>",
      "text/plain": "                      reading_score\nschool_name                        \nBailey High School        80.907183\nCabrera High School       84.253219\nFigueroa High School      81.408912\nFord High School          81.262712\nGriffin High School       83.706897"
     },
     "execution_count": 523,
     "metadata": {},
     "output_type": "execute_result"
    }
   ],
   "source": [
    "tenth_read = student_data.loc[student_data[\"grade\"] == \"10th\", :]\n",
    "\n",
    "tenth_read_group = tenth_read.groupby(\"school_name\").agg(np.mean)\n",
    "\n",
    "tenth_read_df = pd.DataFrame(tenth_read_group[\"reading_score\"])\n",
    "\n",
    "tenth_read_df = tenth_read_df.rename(columns = {\"read_score\":\"10th Grade Avg Reading Score\"})\n",
    "\n",
    "tenth_read_df.head()"
   ]
  },
  {
   "cell_type": "code",
   "execution_count": 524,
   "metadata": {},
   "outputs": [
    {
     "data": {
      "text/html": "<div>\n<style scoped>\n    .dataframe tbody tr th:only-of-type {\n        vertical-align: middle;\n    }\n\n    .dataframe tbody tr th {\n        vertical-align: top;\n    }\n\n    .dataframe thead th {\n        text-align: right;\n    }\n</style>\n<table border=\"1\" class=\"dataframe\">\n  <thead>\n    <tr style=\"text-align: right;\">\n      <th></th>\n      <th>11th Grade Avg Reading Score</th>\n    </tr>\n    <tr>\n      <th>school_name</th>\n      <th></th>\n    </tr>\n  </thead>\n  <tbody>\n    <tr>\n      <td>Bailey High School</td>\n      <td>80.945643</td>\n    </tr>\n    <tr>\n      <td>Cabrera High School</td>\n      <td>83.788382</td>\n    </tr>\n    <tr>\n      <td>Figueroa High School</td>\n      <td>80.640339</td>\n    </tr>\n    <tr>\n      <td>Ford High School</td>\n      <td>80.403642</td>\n    </tr>\n    <tr>\n      <td>Griffin High School</td>\n      <td>84.288089</td>\n    </tr>\n  </tbody>\n</table>\n</div>",
      "text/plain": "                      11th Grade Avg Reading Score\nschool_name                                       \nBailey High School                       80.945643\nCabrera High School                      83.788382\nFigueroa High School                     80.640339\nFord High School                         80.403642\nGriffin High School                      84.288089"
     },
     "execution_count": 524,
     "metadata": {},
     "output_type": "execute_result"
    }
   ],
   "source": [
    "eleven_read = student_data.loc[student_data[\"grade\"] == \"11th\", :]\n",
    "\n",
    "eleven_read_group = eleven_read.groupby(\"school_name\").agg(np.mean)\n",
    "\n",
    "eleven_read_df = pd.DataFrame(eleven_read_group[\"reading_score\"])\n",
    "\n",
    "eleven_read_df = eleven_read_df.rename(columns = {\"reading_score\":\"11th Grade Avg Reading Score\"})\n",
    "\n",
    "eleven_read_df.head()"
   ]
  },
  {
   "cell_type": "code",
   "execution_count": 525,
   "metadata": {},
   "outputs": [
    {
     "data": {
      "text/html": "<div>\n<style scoped>\n    .dataframe tbody tr th:only-of-type {\n        vertical-align: middle;\n    }\n\n    .dataframe tbody tr th {\n        vertical-align: top;\n    }\n\n    .dataframe thead th {\n        text-align: right;\n    }\n</style>\n<table border=\"1\" class=\"dataframe\">\n  <thead>\n    <tr style=\"text-align: right;\">\n      <th></th>\n      <th>12th Grade Avg Reading Score</th>\n    </tr>\n    <tr>\n      <th>school_name</th>\n      <th></th>\n    </tr>\n  </thead>\n  <tbody>\n    <tr>\n      <td>Bailey High School</td>\n      <td>80.912451</td>\n    </tr>\n    <tr>\n      <td>Cabrera High School</td>\n      <td>84.287958</td>\n    </tr>\n    <tr>\n      <td>Figueroa High School</td>\n      <td>81.384863</td>\n    </tr>\n    <tr>\n      <td>Ford High School</td>\n      <td>80.662338</td>\n    </tr>\n    <tr>\n      <td>Griffin High School</td>\n      <td>84.013699</td>\n    </tr>\n  </tbody>\n</table>\n</div>",
      "text/plain": "                      12th Grade Avg Reading Score\nschool_name                                       \nBailey High School                       80.912451\nCabrera High School                      84.287958\nFigueroa High School                     81.384863\nFord High School                         80.662338\nGriffin High School                      84.013699"
     },
     "execution_count": 525,
     "metadata": {},
     "output_type": "execute_result"
    }
   ],
   "source": [
    "twelth_read = student_data.loc[student_data[\"grade\"] == \"12th\", :]\n",
    "\n",
    "twelth_read_group = twelth_math.groupby(\"school_name\").agg(np.mean)\n",
    "\n",
    "twelth_read_df = pd.DataFrame(twelth_read_group[\"reading_score\"])\n",
    "\n",
    "twelth_read_df = twelth_read_df.rename(columns = {\"reading_score\":\"12th Grade Avg Reading Score\"})\n",
    "\n",
    "twelth_read_df.head()"
   ]
  },
  {
   "cell_type": "code",
   "execution_count": 526,
   "metadata": {},
   "outputs": [
    {
     "data": {
      "text/html": "<div>\n<style scoped>\n    .dataframe tbody tr th:only-of-type {\n        vertical-align: middle;\n    }\n\n    .dataframe tbody tr th {\n        vertical-align: top;\n    }\n\n    .dataframe thead th {\n        text-align: right;\n    }\n</style>\n<table border=\"1\" class=\"dataframe\">\n  <thead>\n    <tr style=\"text-align: right;\">\n      <th></th>\n      <th>9th Grade Avg Reading Score</th>\n      <th>reading_score</th>\n      <th>11th Grade Avg Reading Score</th>\n      <th>12th Grade Avg Reading Score</th>\n    </tr>\n    <tr>\n      <th>school_name</th>\n      <th></th>\n      <th></th>\n      <th></th>\n      <th></th>\n    </tr>\n  </thead>\n  <tbody>\n    <tr>\n      <td>Bailey High School</td>\n      <td>81.303155</td>\n      <td>80.907183</td>\n      <td>80.945643</td>\n      <td>80.912451</td>\n    </tr>\n    <tr>\n      <td>Cabrera High School</td>\n      <td>83.676136</td>\n      <td>84.253219</td>\n      <td>83.788382</td>\n      <td>84.287958</td>\n    </tr>\n    <tr>\n      <td>Figueroa High School</td>\n      <td>81.198598</td>\n      <td>81.408912</td>\n      <td>80.640339</td>\n      <td>81.384863</td>\n    </tr>\n    <tr>\n      <td>Ford High School</td>\n      <td>80.632653</td>\n      <td>81.262712</td>\n      <td>80.403642</td>\n      <td>80.662338</td>\n    </tr>\n    <tr>\n      <td>Griffin High School</td>\n      <td>83.369193</td>\n      <td>83.706897</td>\n      <td>84.288089</td>\n      <td>84.013699</td>\n    </tr>\n    <tr>\n      <td>Hernandez High School</td>\n      <td>80.866860</td>\n      <td>80.660147</td>\n      <td>81.396140</td>\n      <td>80.857143</td>\n    </tr>\n    <tr>\n      <td>Holden High School</td>\n      <td>83.677165</td>\n      <td>83.324561</td>\n      <td>83.815534</td>\n      <td>84.698795</td>\n    </tr>\n    <tr>\n      <td>Huang High School</td>\n      <td>81.290284</td>\n      <td>81.512386</td>\n      <td>81.417476</td>\n      <td>80.305983</td>\n    </tr>\n    <tr>\n      <td>Johnson High School</td>\n      <td>81.260714</td>\n      <td>80.773431</td>\n      <td>80.616027</td>\n      <td>81.227564</td>\n    </tr>\n    <tr>\n      <td>Pena High School</td>\n      <td>83.807273</td>\n      <td>83.612000</td>\n      <td>84.335938</td>\n      <td>84.591160</td>\n    </tr>\n    <tr>\n      <td>Rodriguez High School</td>\n      <td>80.993127</td>\n      <td>80.629808</td>\n      <td>80.864811</td>\n      <td>80.376426</td>\n    </tr>\n    <tr>\n      <td>Shelton High School</td>\n      <td>84.122642</td>\n      <td>83.441964</td>\n      <td>84.373786</td>\n      <td>82.781671</td>\n    </tr>\n    <tr>\n      <td>Thomas High School</td>\n      <td>83.728850</td>\n      <td>84.254157</td>\n      <td>83.585542</td>\n      <td>83.831361</td>\n    </tr>\n    <tr>\n      <td>Wilson High School</td>\n      <td>83.939778</td>\n      <td>84.021452</td>\n      <td>83.764608</td>\n      <td>84.317673</td>\n    </tr>\n    <tr>\n      <td>Wright High School</td>\n      <td>83.833333</td>\n      <td>83.812757</td>\n      <td>84.156322</td>\n      <td>84.073171</td>\n    </tr>\n  </tbody>\n</table>\n</div>",
      "text/plain": "                       9th Grade Avg Reading Score  reading_score  \\\nschool_name                                                         \nBailey High School                       81.303155      80.907183   \nCabrera High School                      83.676136      84.253219   \nFigueroa High School                     81.198598      81.408912   \nFord High School                         80.632653      81.262712   \nGriffin High School                      83.369193      83.706897   \nHernandez High School                    80.866860      80.660147   \nHolden High School                       83.677165      83.324561   \nHuang High School                        81.290284      81.512386   \nJohnson High School                      81.260714      80.773431   \nPena High School                         83.807273      83.612000   \nRodriguez High School                    80.993127      80.629808   \nShelton High School                      84.122642      83.441964   \nThomas High School                       83.728850      84.254157   \nWilson High School                       83.939778      84.021452   \nWright High School                       83.833333      83.812757   \n\n                       11th Grade Avg Reading Score  \\\nschool_name                                           \nBailey High School                        80.945643   \nCabrera High School                       83.788382   \nFigueroa High School                      80.640339   \nFord High School                          80.403642   \nGriffin High School                       84.288089   \nHernandez High School                     81.396140   \nHolden High School                        83.815534   \nHuang High School                         81.417476   \nJohnson High School                       80.616027   \nPena High School                          84.335938   \nRodriguez High School                     80.864811   \nShelton High School                       84.373786   \nThomas High School                        83.585542   \nWilson High School                        83.764608   \nWright High School                        84.156322   \n\n                       12th Grade Avg Reading Score  \nschool_name                                          \nBailey High School                        80.912451  \nCabrera High School                       84.287958  \nFigueroa High School                      81.384863  \nFord High School                          80.662338  \nGriffin High School                       84.013699  \nHernandez High School                     80.857143  \nHolden High School                        84.698795  \nHuang High School                         80.305983  \nJohnson High School                       81.227564  \nPena High School                          84.591160  \nRodriguez High School                     80.376426  \nShelton High School                       82.781671  \nThomas High School                        83.831361  \nWilson High School                        84.317673  \nWright High School                        84.073171  "
     },
     "execution_count": 526,
     "metadata": {},
     "output_type": "execute_result"
    }
   ],
   "source": [
    "#combine all reading scores by grade together\n",
    "combinedreadscores = pd.concat([ninth_read_df,tenth_read_df, eleven_read_df, twelth_read_df], axis=1)\n",
    "\n",
    "combinedreadscores"
   ]
  },
  {
   "cell_type": "code",
   "execution_count": 16,
   "metadata": {},
   "outputs": [
    {
     "data": {
      "text/html": [
       "<div>\n",
       "<style scoped>\n",
       "    .dataframe tbody tr th:only-of-type {\n",
       "        vertical-align: middle;\n",
       "    }\n",
       "\n",
       "    .dataframe tbody tr th {\n",
       "        vertical-align: top;\n",
       "    }\n",
       "\n",
       "    .dataframe thead th {\n",
       "        text-align: right;\n",
       "    }\n",
       "</style>\n",
       "<table border=\"1\" class=\"dataframe\">\n",
       "  <thead>\n",
       "    <tr style=\"text-align: right;\">\n",
       "      <th></th>\n",
       "      <th>9th</th>\n",
       "      <th>10th</th>\n",
       "      <th>11th</th>\n",
       "      <th>12th</th>\n",
       "    </tr>\n",
       "  </thead>\n",
       "  <tbody>\n",
       "    <tr>\n",
       "      <th>Bailey High School</th>\n",
       "      <td>81.303155</td>\n",
       "      <td>80.907183</td>\n",
       "      <td>80.945643</td>\n",
       "      <td>80.912451</td>\n",
       "    </tr>\n",
       "    <tr>\n",
       "      <th>Cabrera High School</th>\n",
       "      <td>83.676136</td>\n",
       "      <td>84.253219</td>\n",
       "      <td>83.788382</td>\n",
       "      <td>84.287958</td>\n",
       "    </tr>\n",
       "    <tr>\n",
       "      <th>Figueroa High School</th>\n",
       "      <td>81.198598</td>\n",
       "      <td>81.408912</td>\n",
       "      <td>80.640339</td>\n",
       "      <td>81.384863</td>\n",
       "    </tr>\n",
       "    <tr>\n",
       "      <th>Ford High School</th>\n",
       "      <td>80.632653</td>\n",
       "      <td>81.262712</td>\n",
       "      <td>80.403642</td>\n",
       "      <td>80.662338</td>\n",
       "    </tr>\n",
       "    <tr>\n",
       "      <th>Griffin High School</th>\n",
       "      <td>83.369193</td>\n",
       "      <td>83.706897</td>\n",
       "      <td>84.288089</td>\n",
       "      <td>84.013699</td>\n",
       "    </tr>\n",
       "    <tr>\n",
       "      <th>Hernandez High School</th>\n",
       "      <td>80.866860</td>\n",
       "      <td>80.660147</td>\n",
       "      <td>81.396140</td>\n",
       "      <td>80.857143</td>\n",
       "    </tr>\n",
       "    <tr>\n",
       "      <th>Holden High School</th>\n",
       "      <td>83.677165</td>\n",
       "      <td>83.324561</td>\n",
       "      <td>83.815534</td>\n",
       "      <td>84.698795</td>\n",
       "    </tr>\n",
       "    <tr>\n",
       "      <th>Huang High School</th>\n",
       "      <td>81.290284</td>\n",
       "      <td>81.512386</td>\n",
       "      <td>81.417476</td>\n",
       "      <td>80.305983</td>\n",
       "    </tr>\n",
       "    <tr>\n",
       "      <th>Johnson High School</th>\n",
       "      <td>81.260714</td>\n",
       "      <td>80.773431</td>\n",
       "      <td>80.616027</td>\n",
       "      <td>81.227564</td>\n",
       "    </tr>\n",
       "    <tr>\n",
       "      <th>Pena High School</th>\n",
       "      <td>83.807273</td>\n",
       "      <td>83.612000</td>\n",
       "      <td>84.335938</td>\n",
       "      <td>84.591160</td>\n",
       "    </tr>\n",
       "    <tr>\n",
       "      <th>Rodriguez High School</th>\n",
       "      <td>80.993127</td>\n",
       "      <td>80.629808</td>\n",
       "      <td>80.864811</td>\n",
       "      <td>80.376426</td>\n",
       "    </tr>\n",
       "    <tr>\n",
       "      <th>Shelton High School</th>\n",
       "      <td>84.122642</td>\n",
       "      <td>83.441964</td>\n",
       "      <td>84.373786</td>\n",
       "      <td>82.781671</td>\n",
       "    </tr>\n",
       "    <tr>\n",
       "      <th>Thomas High School</th>\n",
       "      <td>83.728850</td>\n",
       "      <td>84.254157</td>\n",
       "      <td>83.585542</td>\n",
       "      <td>83.831361</td>\n",
       "    </tr>\n",
       "    <tr>\n",
       "      <th>Wilson High School</th>\n",
       "      <td>83.939778</td>\n",
       "      <td>84.021452</td>\n",
       "      <td>83.764608</td>\n",
       "      <td>84.317673</td>\n",
       "    </tr>\n",
       "    <tr>\n",
       "      <th>Wright High School</th>\n",
       "      <td>83.833333</td>\n",
       "      <td>83.812757</td>\n",
       "      <td>84.156322</td>\n",
       "      <td>84.073171</td>\n",
       "    </tr>\n",
       "  </tbody>\n",
       "</table>\n",
       "</div>"
      ],
      "text/plain": [
       "                             9th       10th       11th       12th\n",
       "Bailey High School     81.303155  80.907183  80.945643  80.912451\n",
       "Cabrera High School    83.676136  84.253219  83.788382  84.287958\n",
       "Figueroa High School   81.198598  81.408912  80.640339  81.384863\n",
       "Ford High School       80.632653  81.262712  80.403642  80.662338\n",
       "Griffin High School    83.369193  83.706897  84.288089  84.013699\n",
       "Hernandez High School  80.866860  80.660147  81.396140  80.857143\n",
       "Holden High School     83.677165  83.324561  83.815534  84.698795\n",
       "Huang High School      81.290284  81.512386  81.417476  80.305983\n",
       "Johnson High School    81.260714  80.773431  80.616027  81.227564\n",
       "Pena High School       83.807273  83.612000  84.335938  84.591160\n",
       "Rodriguez High School  80.993127  80.629808  80.864811  80.376426\n",
       "Shelton High School    84.122642  83.441964  84.373786  82.781671\n",
       "Thomas High School     83.728850  84.254157  83.585542  83.831361\n",
       "Wilson High School     83.939778  84.021452  83.764608  84.317673\n",
       "Wright High School     83.833333  83.812757  84.156322  84.073171"
      ]
     },
     "execution_count": 16,
     "metadata": {},
     "output_type": "execute_result"
    }
   ],
   "source": []
  },
  {
   "cell_type": "markdown",
   "metadata": {},
   "source": [
    "## Scores by School Spending"
   ]
  },
  {
   "cell_type": "markdown",
   "metadata": {},
   "source": [
    "* Create a table that breaks down school performances based on average Spending Ranges (Per Student). Use 4 reasonable bins to group school spending. Include in the table each of the following:\n",
    "  * Average Math Score\n",
    "  * Average Reading Score\n",
    "  * % Passing Math\n",
    "  * % Passing Reading\n",
    "  * Overall Passing Rate (Average of the above two)"
   ]
  },
  {
   "cell_type": "code",
   "execution_count": 527,
   "metadata": {},
   "outputs": [
    {
     "data": {
      "text/html": "<div>\n<style scoped>\n    .dataframe tbody tr th:only-of-type {\n        vertical-align: middle;\n    }\n\n    .dataframe tbody tr th {\n        vertical-align: top;\n    }\n\n    .dataframe thead th {\n        text-align: right;\n    }\n</style>\n<table border=\"1\" class=\"dataframe\">\n  <thead>\n    <tr style=\"text-align: right;\">\n      <th></th>\n      <th>school_name</th>\n      <th>type</th>\n      <th>size</th>\n      <th>budget</th>\n      <th>Per Student Budget</th>\n      <th>avg math score</th>\n      <th>avg reading score</th>\n      <th>Math Pass Rate</th>\n      <th>Reading Pass Rate</th>\n      <th>Overall Pass Rate</th>\n    </tr>\n  </thead>\n  <tbody>\n    <tr>\n      <td>6</td>\n      <td>Cabrera High School</td>\n      <td>Charter</td>\n      <td>1858</td>\n      <td>1081356</td>\n      <td>582.0</td>\n      <td>83.061895</td>\n      <td>83.975780</td>\n      <td>0.941335</td>\n      <td>0.970398</td>\n      <td>0.955867</td>\n    </tr>\n    <tr>\n      <td>14</td>\n      <td>Thomas High School</td>\n      <td>Charter</td>\n      <td>1635</td>\n      <td>1043130</td>\n      <td>638.0</td>\n      <td>83.418349</td>\n      <td>83.848930</td>\n      <td>0.932722</td>\n      <td>0.973089</td>\n      <td>0.952905</td>\n    </tr>\n    <tr>\n      <td>9</td>\n      <td>Pena High School</td>\n      <td>Charter</td>\n      <td>962</td>\n      <td>585858</td>\n      <td>609.0</td>\n      <td>83.839917</td>\n      <td>84.044699</td>\n      <td>0.945946</td>\n      <td>0.959459</td>\n      <td>0.952703</td>\n    </tr>\n    <tr>\n      <td>4</td>\n      <td>Griffin High School</td>\n      <td>Charter</td>\n      <td>1468</td>\n      <td>917500</td>\n      <td>625.0</td>\n      <td>83.351499</td>\n      <td>83.816757</td>\n      <td>0.933924</td>\n      <td>0.971390</td>\n      <td>0.952657</td>\n    </tr>\n    <tr>\n      <td>5</td>\n      <td>Wilson High School</td>\n      <td>Charter</td>\n      <td>2283</td>\n      <td>1319574</td>\n      <td>578.0</td>\n      <td>83.274201</td>\n      <td>83.989488</td>\n      <td>0.938677</td>\n      <td>0.965396</td>\n      <td>0.952037</td>\n    </tr>\n    <tr>\n      <td>10</td>\n      <td>Wright High School</td>\n      <td>Charter</td>\n      <td>1800</td>\n      <td>1049400</td>\n      <td>583.0</td>\n      <td>83.682222</td>\n      <td>83.955000</td>\n      <td>0.933333</td>\n      <td>0.966111</td>\n      <td>0.949722</td>\n    </tr>\n    <tr>\n      <td>2</td>\n      <td>Shelton High School</td>\n      <td>Charter</td>\n      <td>1761</td>\n      <td>1056600</td>\n      <td>600.0</td>\n      <td>83.359455</td>\n      <td>83.725724</td>\n      <td>0.938671</td>\n      <td>0.958546</td>\n      <td>0.948609</td>\n    </tr>\n    <tr>\n      <td>8</td>\n      <td>Holden High School</td>\n      <td>Charter</td>\n      <td>427</td>\n      <td>248087</td>\n      <td>581.0</td>\n      <td>83.803279</td>\n      <td>83.814988</td>\n      <td>0.925059</td>\n      <td>0.962529</td>\n      <td>0.943794</td>\n    </tr>\n    <tr>\n      <td>7</td>\n      <td>Bailey High School</td>\n      <td>District</td>\n      <td>4976</td>\n      <td>3124928</td>\n      <td>628.0</td>\n      <td>77.048432</td>\n      <td>81.033963</td>\n      <td>0.666801</td>\n      <td>0.819333</td>\n      <td>0.743067</td>\n    </tr>\n    <tr>\n      <td>3</td>\n      <td>Hernandez High School</td>\n      <td>District</td>\n      <td>4635</td>\n      <td>3022020</td>\n      <td>652.0</td>\n      <td>77.289752</td>\n      <td>80.934412</td>\n      <td>0.667530</td>\n      <td>0.808630</td>\n      <td>0.738080</td>\n    </tr>\n    <tr>\n      <td>13</td>\n      <td>Ford High School</td>\n      <td>District</td>\n      <td>2739</td>\n      <td>1763916</td>\n      <td>644.0</td>\n      <td>77.102592</td>\n      <td>80.746258</td>\n      <td>0.683096</td>\n      <td>0.792990</td>\n      <td>0.738043</td>\n    </tr>\n    <tr>\n      <td>12</td>\n      <td>Johnson High School</td>\n      <td>District</td>\n      <td>4761</td>\n      <td>3094650</td>\n      <td>650.0</td>\n      <td>77.072464</td>\n      <td>80.966394</td>\n      <td>0.660576</td>\n      <td>0.812224</td>\n      <td>0.736400</td>\n    </tr>\n    <tr>\n      <td>0</td>\n      <td>Huang High School</td>\n      <td>District</td>\n      <td>2917</td>\n      <td>1910635</td>\n      <td>655.0</td>\n      <td>76.629414</td>\n      <td>81.182722</td>\n      <td>0.656839</td>\n      <td>0.813164</td>\n      <td>0.735002</td>\n    </tr>\n    <tr>\n      <td>1</td>\n      <td>Figueroa High School</td>\n      <td>District</td>\n      <td>2949</td>\n      <td>1884411</td>\n      <td>639.0</td>\n      <td>76.711767</td>\n      <td>81.158020</td>\n      <td>0.659885</td>\n      <td>0.807392</td>\n      <td>0.733639</td>\n    </tr>\n    <tr>\n      <td>11</td>\n      <td>Rodriguez High School</td>\n      <td>District</td>\n      <td>3999</td>\n      <td>2547363</td>\n      <td>637.0</td>\n      <td>76.842711</td>\n      <td>80.744686</td>\n      <td>0.663666</td>\n      <td>0.802201</td>\n      <td>0.732933</td>\n    </tr>\n  </tbody>\n</table>\n</div>",
      "text/plain": "              school_name      type  size   budget  Per Student Budget  \\\n6     Cabrera High School   Charter  1858  1081356               582.0   \n14     Thomas High School   Charter  1635  1043130               638.0   \n9        Pena High School   Charter   962   585858               609.0   \n4     Griffin High School   Charter  1468   917500               625.0   \n5      Wilson High School   Charter  2283  1319574               578.0   \n10     Wright High School   Charter  1800  1049400               583.0   \n2     Shelton High School   Charter  1761  1056600               600.0   \n8      Holden High School   Charter   427   248087               581.0   \n7      Bailey High School  District  4976  3124928               628.0   \n3   Hernandez High School  District  4635  3022020               652.0   \n13       Ford High School  District  2739  1763916               644.0   \n12    Johnson High School  District  4761  3094650               650.0   \n0       Huang High School  District  2917  1910635               655.0   \n1    Figueroa High School  District  2949  1884411               639.0   \n11  Rodriguez High School  District  3999  2547363               637.0   \n\n    avg math score  avg reading score  Math Pass Rate  Reading Pass Rate  \\\n6        83.061895          83.975780        0.941335           0.970398   \n14       83.418349          83.848930        0.932722           0.973089   \n9        83.839917          84.044699        0.945946           0.959459   \n4        83.351499          83.816757        0.933924           0.971390   \n5        83.274201          83.989488        0.938677           0.965396   \n10       83.682222          83.955000        0.933333           0.966111   \n2        83.359455          83.725724        0.938671           0.958546   \n8        83.803279          83.814988        0.925059           0.962529   \n7        77.048432          81.033963        0.666801           0.819333   \n3        77.289752          80.934412        0.667530           0.808630   \n13       77.102592          80.746258        0.683096           0.792990   \n12       77.072464          80.966394        0.660576           0.812224   \n0        76.629414          81.182722        0.656839           0.813164   \n1        76.711767          81.158020        0.659885           0.807392   \n11       76.842711          80.744686        0.663666           0.802201   \n\n    Overall Pass Rate  \n6            0.955867  \n14           0.952905  \n9            0.952703  \n4            0.952657  \n5            0.952037  \n10           0.949722  \n2            0.948609  \n8            0.943794  \n7            0.743067  \n3            0.738080  \n13           0.738043  \n12           0.736400  \n0            0.735002  \n1            0.733639  \n11           0.732933  "
     },
     "execution_count": 527,
     "metadata": {},
     "output_type": "execute_result"
    }
   ],
   "source": [
    "topoverall"
   ]
  },
  {
   "cell_type": "code",
   "execution_count": 528,
   "metadata": {},
   "outputs": [
    {
     "data": {
      "text/plain": "school_name           Bailey High School\ntype                             Charter\nsize                                 427\nbudget                            248087\nPer Student Budget                   578\navg math score                   76.6294\navg reading score                80.7447\nMath Pass Rate                  0.656839\nReading Pass Rate                0.79299\nOverall Pass Rate               0.732933\ndtype: object"
     },
     "execution_count": 528,
     "metadata": {},
     "output_type": "execute_result"
    }
   ],
   "source": [
    "minbudget = topoverall.min()\n",
    "\n",
    "minbudget"
   ]
  },
  {
   "cell_type": "code",
   "execution_count": 529,
   "metadata": {},
   "outputs": [
    {
     "data": {
      "text/plain": "school_name           Wright High School\ntype                            District\nsize                                4976\nbudget                           3124928\nPer Student Budget                   655\navg math score                   83.8399\navg reading score                84.0447\nMath Pass Rate                  0.945946\nReading Pass Rate               0.973089\nOverall Pass Rate               0.955867\ndtype: object"
     },
     "execution_count": 529,
     "metadata": {},
     "output_type": "execute_result"
    }
   ],
   "source": [
    "maxbudget = topoverall.max()\n",
    "\n",
    "maxbudget"
   ]
  },
  {
   "cell_type": "code",
   "execution_count": 530,
   "metadata": {},
   "outputs": [
    {
     "data": {
      "text/html": "<div>\n<style scoped>\n    .dataframe tbody tr th:only-of-type {\n        vertical-align: middle;\n    }\n\n    .dataframe tbody tr th {\n        vertical-align: top;\n    }\n\n    .dataframe thead th {\n        text-align: right;\n    }\n</style>\n<table border=\"1\" class=\"dataframe\">\n  <thead>\n    <tr style=\"text-align: right;\">\n      <th></th>\n      <th>school_name</th>\n      <th>type</th>\n      <th>size</th>\n      <th>budget</th>\n      <th>Per Student Budget</th>\n      <th>avg math score</th>\n      <th>avg reading score</th>\n      <th>Math Pass Rate</th>\n      <th>Reading Pass Rate</th>\n      <th>Overall Pass Rate</th>\n      <th>Per Student Budget Summary</th>\n    </tr>\n  </thead>\n  <tbody>\n    <tr>\n      <td>6</td>\n      <td>Cabrera High School</td>\n      <td>Charter</td>\n      <td>1858</td>\n      <td>1081356</td>\n      <td>582.0</td>\n      <td>83.061895</td>\n      <td>83.975780</td>\n      <td>0.941335</td>\n      <td>0.970398</td>\n      <td>0.955867</td>\n      <td>&lt;$585</td>\n    </tr>\n    <tr>\n      <td>14</td>\n      <td>Thomas High School</td>\n      <td>Charter</td>\n      <td>1635</td>\n      <td>1043130</td>\n      <td>638.0</td>\n      <td>83.418349</td>\n      <td>83.848930</td>\n      <td>0.932722</td>\n      <td>0.973089</td>\n      <td>0.952905</td>\n      <td>$615-645</td>\n    </tr>\n    <tr>\n      <td>9</td>\n      <td>Pena High School</td>\n      <td>Charter</td>\n      <td>962</td>\n      <td>585858</td>\n      <td>609.0</td>\n      <td>83.839917</td>\n      <td>84.044699</td>\n      <td>0.945946</td>\n      <td>0.959459</td>\n      <td>0.952703</td>\n      <td>$585-615</td>\n    </tr>\n    <tr>\n      <td>4</td>\n      <td>Griffin High School</td>\n      <td>Charter</td>\n      <td>1468</td>\n      <td>917500</td>\n      <td>625.0</td>\n      <td>83.351499</td>\n      <td>83.816757</td>\n      <td>0.933924</td>\n      <td>0.971390</td>\n      <td>0.952657</td>\n      <td>$615-645</td>\n    </tr>\n    <tr>\n      <td>5</td>\n      <td>Wilson High School</td>\n      <td>Charter</td>\n      <td>2283</td>\n      <td>1319574</td>\n      <td>578.0</td>\n      <td>83.274201</td>\n      <td>83.989488</td>\n      <td>0.938677</td>\n      <td>0.965396</td>\n      <td>0.952037</td>\n      <td>&lt;$585</td>\n    </tr>\n    <tr>\n      <td>10</td>\n      <td>Wright High School</td>\n      <td>Charter</td>\n      <td>1800</td>\n      <td>1049400</td>\n      <td>583.0</td>\n      <td>83.682222</td>\n      <td>83.955000</td>\n      <td>0.933333</td>\n      <td>0.966111</td>\n      <td>0.949722</td>\n      <td>&lt;$585</td>\n    </tr>\n    <tr>\n      <td>2</td>\n      <td>Shelton High School</td>\n      <td>Charter</td>\n      <td>1761</td>\n      <td>1056600</td>\n      <td>600.0</td>\n      <td>83.359455</td>\n      <td>83.725724</td>\n      <td>0.938671</td>\n      <td>0.958546</td>\n      <td>0.948609</td>\n      <td>$585-615</td>\n    </tr>\n    <tr>\n      <td>8</td>\n      <td>Holden High School</td>\n      <td>Charter</td>\n      <td>427</td>\n      <td>248087</td>\n      <td>581.0</td>\n      <td>83.803279</td>\n      <td>83.814988</td>\n      <td>0.925059</td>\n      <td>0.962529</td>\n      <td>0.943794</td>\n      <td>&lt;$585</td>\n    </tr>\n    <tr>\n      <td>7</td>\n      <td>Bailey High School</td>\n      <td>District</td>\n      <td>4976</td>\n      <td>3124928</td>\n      <td>628.0</td>\n      <td>77.048432</td>\n      <td>81.033963</td>\n      <td>0.666801</td>\n      <td>0.819333</td>\n      <td>0.743067</td>\n      <td>$615-645</td>\n    </tr>\n    <tr>\n      <td>3</td>\n      <td>Hernandez High School</td>\n      <td>District</td>\n      <td>4635</td>\n      <td>3022020</td>\n      <td>652.0</td>\n      <td>77.289752</td>\n      <td>80.934412</td>\n      <td>0.667530</td>\n      <td>0.808630</td>\n      <td>0.738080</td>\n      <td>$645-675</td>\n    </tr>\n    <tr>\n      <td>13</td>\n      <td>Ford High School</td>\n      <td>District</td>\n      <td>2739</td>\n      <td>1763916</td>\n      <td>644.0</td>\n      <td>77.102592</td>\n      <td>80.746258</td>\n      <td>0.683096</td>\n      <td>0.792990</td>\n      <td>0.738043</td>\n      <td>$615-645</td>\n    </tr>\n    <tr>\n      <td>12</td>\n      <td>Johnson High School</td>\n      <td>District</td>\n      <td>4761</td>\n      <td>3094650</td>\n      <td>650.0</td>\n      <td>77.072464</td>\n      <td>80.966394</td>\n      <td>0.660576</td>\n      <td>0.812224</td>\n      <td>0.736400</td>\n      <td>$645-675</td>\n    </tr>\n    <tr>\n      <td>0</td>\n      <td>Huang High School</td>\n      <td>District</td>\n      <td>2917</td>\n      <td>1910635</td>\n      <td>655.0</td>\n      <td>76.629414</td>\n      <td>81.182722</td>\n      <td>0.656839</td>\n      <td>0.813164</td>\n      <td>0.735002</td>\n      <td>$645-675</td>\n    </tr>\n    <tr>\n      <td>1</td>\n      <td>Figueroa High School</td>\n      <td>District</td>\n      <td>2949</td>\n      <td>1884411</td>\n      <td>639.0</td>\n      <td>76.711767</td>\n      <td>81.158020</td>\n      <td>0.659885</td>\n      <td>0.807392</td>\n      <td>0.733639</td>\n      <td>$615-645</td>\n    </tr>\n    <tr>\n      <td>11</td>\n      <td>Rodriguez High School</td>\n      <td>District</td>\n      <td>3999</td>\n      <td>2547363</td>\n      <td>637.0</td>\n      <td>76.842711</td>\n      <td>80.744686</td>\n      <td>0.663666</td>\n      <td>0.802201</td>\n      <td>0.732933</td>\n      <td>$615-645</td>\n    </tr>\n  </tbody>\n</table>\n</div>",
      "text/plain": "              school_name      type  size   budget  Per Student Budget  \\\n6     Cabrera High School   Charter  1858  1081356               582.0   \n14     Thomas High School   Charter  1635  1043130               638.0   \n9        Pena High School   Charter   962   585858               609.0   \n4     Griffin High School   Charter  1468   917500               625.0   \n5      Wilson High School   Charter  2283  1319574               578.0   \n10     Wright High School   Charter  1800  1049400               583.0   \n2     Shelton High School   Charter  1761  1056600               600.0   \n8      Holden High School   Charter   427   248087               581.0   \n7      Bailey High School  District  4976  3124928               628.0   \n3   Hernandez High School  District  4635  3022020               652.0   \n13       Ford High School  District  2739  1763916               644.0   \n12    Johnson High School  District  4761  3094650               650.0   \n0       Huang High School  District  2917  1910635               655.0   \n1    Figueroa High School  District  2949  1884411               639.0   \n11  Rodriguez High School  District  3999  2547363               637.0   \n\n    avg math score  avg reading score  Math Pass Rate  Reading Pass Rate  \\\n6        83.061895          83.975780        0.941335           0.970398   \n14       83.418349          83.848930        0.932722           0.973089   \n9        83.839917          84.044699        0.945946           0.959459   \n4        83.351499          83.816757        0.933924           0.971390   \n5        83.274201          83.989488        0.938677           0.965396   \n10       83.682222          83.955000        0.933333           0.966111   \n2        83.359455          83.725724        0.938671           0.958546   \n8        83.803279          83.814988        0.925059           0.962529   \n7        77.048432          81.033963        0.666801           0.819333   \n3        77.289752          80.934412        0.667530           0.808630   \n13       77.102592          80.746258        0.683096           0.792990   \n12       77.072464          80.966394        0.660576           0.812224   \n0        76.629414          81.182722        0.656839           0.813164   \n1        76.711767          81.158020        0.659885           0.807392   \n11       76.842711          80.744686        0.663666           0.802201   \n\n    Overall Pass Rate Per Student Budget Summary  \n6            0.955867                      <$585  \n14           0.952905                   $615-645  \n9            0.952703                   $585-615  \n4            0.952657                   $615-645  \n5            0.952037                      <$585  \n10           0.949722                      <$585  \n2            0.948609                   $585-615  \n8            0.943794                      <$585  \n7            0.743067                   $615-645  \n3            0.738080                   $645-675  \n13           0.738043                   $615-645  \n12           0.736400                   $645-675  \n0            0.735002                   $645-675  \n1            0.733639                   $615-645  \n11           0.732933                   $615-645  "
     },
     "execution_count": 530,
     "metadata": {},
     "output_type": "execute_result"
    }
   ],
   "source": [
    "# Sample bins. Feel free to create your own bins.\n",
    "spending_bins = [0.0, 585.0, 615.0, 645.0, 675.0]\n",
    "group_names = [\"<$585\", \"$585-615\", \"$615-645\", \"$645-675\"]\n",
    "\n",
    "topoverall[\"Per Student Budget Summary\"] = pd.cut(topoverall[\"Per Student Budget\"], spending_bins, labels=group_names)\n",
    "topoverall"
   ]
  },
  {
   "cell_type": "code",
   "execution_count": 537,
   "metadata": {},
   "outputs": [
    {
     "data": {
      "text/html": "<div>\n<style scoped>\n    .dataframe tbody tr th:only-of-type {\n        vertical-align: middle;\n    }\n\n    .dataframe tbody tr th {\n        vertical-align: top;\n    }\n\n    .dataframe thead th {\n        text-align: right;\n    }\n</style>\n<table border=\"1\" class=\"dataframe\">\n  <thead>\n    <tr style=\"text-align: right;\">\n      <th></th>\n      <th>avg reading score</th>\n      <th>avg math score</th>\n      <th>Math Pass Rate</th>\n      <th>Reading Pass Rate</th>\n      <th>Overall Pass Rate</th>\n    </tr>\n    <tr>\n      <th>Per Student Budget Summary</th>\n      <th></th>\n      <th></th>\n      <th></th>\n      <th></th>\n      <th></th>\n    </tr>\n  </thead>\n  <tbody>\n    <tr>\n      <td>&lt;$585</td>\n      <td>83.933814</td>\n      <td>83.455399</td>\n      <td>0.934601</td>\n      <td>0.966109</td>\n      <td>0.950355</td>\n    </tr>\n    <tr>\n      <td>$585-615</td>\n      <td>83.885211</td>\n      <td>83.599686</td>\n      <td>0.942309</td>\n      <td>0.959003</td>\n      <td>0.950656</td>\n    </tr>\n    <tr>\n      <td>$615-645</td>\n      <td>81.891436</td>\n      <td>79.079225</td>\n      <td>0.756682</td>\n      <td>0.861066</td>\n      <td>0.808874</td>\n    </tr>\n    <tr>\n      <td>$645-675</td>\n      <td>81.027843</td>\n      <td>76.997210</td>\n      <td>0.661648</td>\n      <td>0.811340</td>\n      <td>0.736494</td>\n    </tr>\n  </tbody>\n</table>\n</div>",
      "text/plain": "                            avg reading score  avg math score  Math Pass Rate  \\\nPer Student Budget Summary                                                      \n<$585                               83.933814       83.455399        0.934601   \n$585-615                            83.885211       83.599686        0.942309   \n$615-645                            81.891436       79.079225        0.756682   \n$645-675                            81.027843       76.997210        0.661648   \n\n                            Reading Pass Rate  Overall Pass Rate  \nPer Student Budget Summary                                        \n<$585                                0.966109           0.950355  \n$585-615                             0.959003           0.950656  \n$615-645                             0.861066           0.808874  \n$645-675                             0.811340           0.736494  "
     },
     "execution_count": 537,
     "metadata": {},
     "output_type": "execute_result"
    }
   ],
   "source": [
    "#get final table\n",
    "topoverall_stubudg = topoverall[[\"Per Student Budget Summary\",\"avg reading score\",\"avg math score\",\"Math Pass Rate\",\"Reading Pass Rate\",\"Overall Pass Rate\"]]\n",
    "\n",
    "topoverall_groups = topoverall_stubudg.groupby(\"Per Student Budget Summary\").mean()\n",
    "\n",
    "topoverall_groups"
   ]
  },
  {
   "cell_type": "markdown",
   "metadata": {},
   "source": [
    "## Scores by School Size"
   ]
  },
  {
   "cell_type": "code",
   "execution_count": null,
   "metadata": {},
   "outputs": [],
   "source": []
  },
  {
   "cell_type": "markdown",
   "metadata": {},
   "source": [
    "* Perform the same operations as above, based on school size."
   ]
  },
  {
   "cell_type": "code",
   "execution_count": 539,
   "metadata": {},
   "outputs": [
    {
     "data": {
      "text/html": "<div>\n<style scoped>\n    .dataframe tbody tr th:only-of-type {\n        vertical-align: middle;\n    }\n\n    .dataframe tbody tr th {\n        vertical-align: top;\n    }\n\n    .dataframe thead th {\n        text-align: right;\n    }\n</style>\n<table border=\"1\" class=\"dataframe\">\n  <thead>\n    <tr style=\"text-align: right;\">\n      <th></th>\n      <th>school_name</th>\n      <th>type</th>\n      <th>size</th>\n      <th>budget</th>\n      <th>Per Student Budget</th>\n      <th>avg math score</th>\n      <th>avg reading score</th>\n      <th>Math Pass Rate</th>\n      <th>Reading Pass Rate</th>\n      <th>Overall Pass Rate</th>\n      <th>Per Student Budget Summary</th>\n      <th>Per School Size Summary</th>\n    </tr>\n  </thead>\n  <tbody>\n    <tr>\n      <td>6</td>\n      <td>Cabrera High School</td>\n      <td>Charter</td>\n      <td>1858</td>\n      <td>1081356</td>\n      <td>582.0</td>\n      <td>83.061895</td>\n      <td>83.975780</td>\n      <td>0.941335</td>\n      <td>0.970398</td>\n      <td>0.955867</td>\n      <td>&lt;$585</td>\n      <td>Medium (1000-2000)</td>\n    </tr>\n    <tr>\n      <td>14</td>\n      <td>Thomas High School</td>\n      <td>Charter</td>\n      <td>1635</td>\n      <td>1043130</td>\n      <td>638.0</td>\n      <td>83.418349</td>\n      <td>83.848930</td>\n      <td>0.932722</td>\n      <td>0.973089</td>\n      <td>0.952905</td>\n      <td>$615-645</td>\n      <td>Medium (1000-2000)</td>\n    </tr>\n    <tr>\n      <td>9</td>\n      <td>Pena High School</td>\n      <td>Charter</td>\n      <td>962</td>\n      <td>585858</td>\n      <td>609.0</td>\n      <td>83.839917</td>\n      <td>84.044699</td>\n      <td>0.945946</td>\n      <td>0.959459</td>\n      <td>0.952703</td>\n      <td>$585-615</td>\n      <td>Small (&lt;1000)</td>\n    </tr>\n    <tr>\n      <td>4</td>\n      <td>Griffin High School</td>\n      <td>Charter</td>\n      <td>1468</td>\n      <td>917500</td>\n      <td>625.0</td>\n      <td>83.351499</td>\n      <td>83.816757</td>\n      <td>0.933924</td>\n      <td>0.971390</td>\n      <td>0.952657</td>\n      <td>$615-645</td>\n      <td>Medium (1000-2000)</td>\n    </tr>\n    <tr>\n      <td>5</td>\n      <td>Wilson High School</td>\n      <td>Charter</td>\n      <td>2283</td>\n      <td>1319574</td>\n      <td>578.0</td>\n      <td>83.274201</td>\n      <td>83.989488</td>\n      <td>0.938677</td>\n      <td>0.965396</td>\n      <td>0.952037</td>\n      <td>&lt;$585</td>\n      <td>Large (2000-5000)</td>\n    </tr>\n    <tr>\n      <td>10</td>\n      <td>Wright High School</td>\n      <td>Charter</td>\n      <td>1800</td>\n      <td>1049400</td>\n      <td>583.0</td>\n      <td>83.682222</td>\n      <td>83.955000</td>\n      <td>0.933333</td>\n      <td>0.966111</td>\n      <td>0.949722</td>\n      <td>&lt;$585</td>\n      <td>Medium (1000-2000)</td>\n    </tr>\n    <tr>\n      <td>2</td>\n      <td>Shelton High School</td>\n      <td>Charter</td>\n      <td>1761</td>\n      <td>1056600</td>\n      <td>600.0</td>\n      <td>83.359455</td>\n      <td>83.725724</td>\n      <td>0.938671</td>\n      <td>0.958546</td>\n      <td>0.948609</td>\n      <td>$585-615</td>\n      <td>Medium (1000-2000)</td>\n    </tr>\n    <tr>\n      <td>8</td>\n      <td>Holden High School</td>\n      <td>Charter</td>\n      <td>427</td>\n      <td>248087</td>\n      <td>581.0</td>\n      <td>83.803279</td>\n      <td>83.814988</td>\n      <td>0.925059</td>\n      <td>0.962529</td>\n      <td>0.943794</td>\n      <td>&lt;$585</td>\n      <td>Small (&lt;1000)</td>\n    </tr>\n    <tr>\n      <td>7</td>\n      <td>Bailey High School</td>\n      <td>District</td>\n      <td>4976</td>\n      <td>3124928</td>\n      <td>628.0</td>\n      <td>77.048432</td>\n      <td>81.033963</td>\n      <td>0.666801</td>\n      <td>0.819333</td>\n      <td>0.743067</td>\n      <td>$615-645</td>\n      <td>Large (2000-5000)</td>\n    </tr>\n    <tr>\n      <td>3</td>\n      <td>Hernandez High School</td>\n      <td>District</td>\n      <td>4635</td>\n      <td>3022020</td>\n      <td>652.0</td>\n      <td>77.289752</td>\n      <td>80.934412</td>\n      <td>0.667530</td>\n      <td>0.808630</td>\n      <td>0.738080</td>\n      <td>$645-675</td>\n      <td>Large (2000-5000)</td>\n    </tr>\n    <tr>\n      <td>13</td>\n      <td>Ford High School</td>\n      <td>District</td>\n      <td>2739</td>\n      <td>1763916</td>\n      <td>644.0</td>\n      <td>77.102592</td>\n      <td>80.746258</td>\n      <td>0.683096</td>\n      <td>0.792990</td>\n      <td>0.738043</td>\n      <td>$615-645</td>\n      <td>Large (2000-5000)</td>\n    </tr>\n    <tr>\n      <td>12</td>\n      <td>Johnson High School</td>\n      <td>District</td>\n      <td>4761</td>\n      <td>3094650</td>\n      <td>650.0</td>\n      <td>77.072464</td>\n      <td>80.966394</td>\n      <td>0.660576</td>\n      <td>0.812224</td>\n      <td>0.736400</td>\n      <td>$645-675</td>\n      <td>Large (2000-5000)</td>\n    </tr>\n    <tr>\n      <td>0</td>\n      <td>Huang High School</td>\n      <td>District</td>\n      <td>2917</td>\n      <td>1910635</td>\n      <td>655.0</td>\n      <td>76.629414</td>\n      <td>81.182722</td>\n      <td>0.656839</td>\n      <td>0.813164</td>\n      <td>0.735002</td>\n      <td>$645-675</td>\n      <td>Large (2000-5000)</td>\n    </tr>\n    <tr>\n      <td>1</td>\n      <td>Figueroa High School</td>\n      <td>District</td>\n      <td>2949</td>\n      <td>1884411</td>\n      <td>639.0</td>\n      <td>76.711767</td>\n      <td>81.158020</td>\n      <td>0.659885</td>\n      <td>0.807392</td>\n      <td>0.733639</td>\n      <td>$615-645</td>\n      <td>Large (2000-5000)</td>\n    </tr>\n    <tr>\n      <td>11</td>\n      <td>Rodriguez High School</td>\n      <td>District</td>\n      <td>3999</td>\n      <td>2547363</td>\n      <td>637.0</td>\n      <td>76.842711</td>\n      <td>80.744686</td>\n      <td>0.663666</td>\n      <td>0.802201</td>\n      <td>0.732933</td>\n      <td>$615-645</td>\n      <td>Large (2000-5000)</td>\n    </tr>\n  </tbody>\n</table>\n</div>",
      "text/plain": "              school_name      type  size   budget  Per Student Budget  \\\n6     Cabrera High School   Charter  1858  1081356               582.0   \n14     Thomas High School   Charter  1635  1043130               638.0   \n9        Pena High School   Charter   962   585858               609.0   \n4     Griffin High School   Charter  1468   917500               625.0   \n5      Wilson High School   Charter  2283  1319574               578.0   \n10     Wright High School   Charter  1800  1049400               583.0   \n2     Shelton High School   Charter  1761  1056600               600.0   \n8      Holden High School   Charter   427   248087               581.0   \n7      Bailey High School  District  4976  3124928               628.0   \n3   Hernandez High School  District  4635  3022020               652.0   \n13       Ford High School  District  2739  1763916               644.0   \n12    Johnson High School  District  4761  3094650               650.0   \n0       Huang High School  District  2917  1910635               655.0   \n1    Figueroa High School  District  2949  1884411               639.0   \n11  Rodriguez High School  District  3999  2547363               637.0   \n\n    avg math score  avg reading score  Math Pass Rate  Reading Pass Rate  \\\n6        83.061895          83.975780        0.941335           0.970398   \n14       83.418349          83.848930        0.932722           0.973089   \n9        83.839917          84.044699        0.945946           0.959459   \n4        83.351499          83.816757        0.933924           0.971390   \n5        83.274201          83.989488        0.938677           0.965396   \n10       83.682222          83.955000        0.933333           0.966111   \n2        83.359455          83.725724        0.938671           0.958546   \n8        83.803279          83.814988        0.925059           0.962529   \n7        77.048432          81.033963        0.666801           0.819333   \n3        77.289752          80.934412        0.667530           0.808630   \n13       77.102592          80.746258        0.683096           0.792990   \n12       77.072464          80.966394        0.660576           0.812224   \n0        76.629414          81.182722        0.656839           0.813164   \n1        76.711767          81.158020        0.659885           0.807392   \n11       76.842711          80.744686        0.663666           0.802201   \n\n    Overall Pass Rate Per Student Budget Summary Per School Size Summary  \n6            0.955867                      <$585      Medium (1000-2000)  \n14           0.952905                   $615-645      Medium (1000-2000)  \n9            0.952703                   $585-615           Small (<1000)  \n4            0.952657                   $615-645      Medium (1000-2000)  \n5            0.952037                      <$585       Large (2000-5000)  \n10           0.949722                      <$585      Medium (1000-2000)  \n2            0.948609                   $585-615      Medium (1000-2000)  \n8            0.943794                      <$585           Small (<1000)  \n7            0.743067                   $615-645       Large (2000-5000)  \n3            0.738080                   $645-675       Large (2000-5000)  \n13           0.738043                   $615-645       Large (2000-5000)  \n12           0.736400                   $645-675       Large (2000-5000)  \n0            0.735002                   $645-675       Large (2000-5000)  \n1            0.733639                   $615-645       Large (2000-5000)  \n11           0.732933                   $615-645       Large (2000-5000)  "
     },
     "execution_count": 539,
     "metadata": {},
     "output_type": "execute_result"
    }
   ],
   "source": [
    "# Sample bins. Feel free to create your own bins.\n",
    "size_bins = [0, 1000, 2000, 5000]\n",
    "group_names = [\"Small (<1000)\", \"Medium (1000-2000)\", \"Large (2000-5000)\"]\n",
    "\n",
    "topoverall[\"Per School Size Summary\"] = pd.cut(topoverall[\"size\"], size_bins, labels=group_names)\n",
    "topoverall"
   ]
  },
  {
   "cell_type": "code",
   "execution_count": 540,
   "metadata": {},
   "outputs": [
    {
     "data": {
      "text/html": "<div>\n<style scoped>\n    .dataframe tbody tr th:only-of-type {\n        vertical-align: middle;\n    }\n\n    .dataframe tbody tr th {\n        vertical-align: top;\n    }\n\n    .dataframe thead th {\n        text-align: right;\n    }\n</style>\n<table border=\"1\" class=\"dataframe\">\n  <thead>\n    <tr style=\"text-align: right;\">\n      <th></th>\n      <th>avg reading score</th>\n      <th>avg math score</th>\n      <th>Math Pass Rate</th>\n      <th>Reading Pass Rate</th>\n      <th>Overall Pass Rate</th>\n    </tr>\n    <tr>\n      <th>Per School Size Summary</th>\n      <th></th>\n      <th></th>\n      <th></th>\n      <th></th>\n      <th></th>\n    </tr>\n  </thead>\n  <tbody>\n    <tr>\n      <td>Small (&lt;1000)</td>\n      <td>83.929843</td>\n      <td>83.821598</td>\n      <td>0.935502</td>\n      <td>0.960994</td>\n      <td>0.948248</td>\n    </tr>\n    <tr>\n      <td>Medium (1000-2000)</td>\n      <td>83.864438</td>\n      <td>83.374684</td>\n      <td>0.935997</td>\n      <td>0.967907</td>\n      <td>0.951952</td>\n    </tr>\n    <tr>\n      <td>Large (2000-5000)</td>\n      <td>81.344493</td>\n      <td>77.746417</td>\n      <td>0.699634</td>\n      <td>0.827666</td>\n      <td>0.763650</td>\n    </tr>\n  </tbody>\n</table>\n</div>",
      "text/plain": "                         avg reading score  avg math score  Math Pass Rate  \\\nPer School Size Summary                                                      \nSmall (<1000)                    83.929843       83.821598        0.935502   \nMedium (1000-2000)               83.864438       83.374684        0.935997   \nLarge (2000-5000)                81.344493       77.746417        0.699634   \n\n                         Reading Pass Rate  Overall Pass Rate  \nPer School Size Summary                                        \nSmall (<1000)                     0.960994           0.948248  \nMedium (1000-2000)                0.967907           0.951952  \nLarge (2000-5000)                 0.827666           0.763650  "
     },
     "execution_count": 540,
     "metadata": {},
     "output_type": "execute_result"
    }
   ],
   "source": [
    "topoverall_size = topoverall[[\"Per School Size Summary\",\"avg reading score\",\"avg math score\",\"Math Pass Rate\",\"Reading Pass Rate\",\"Overall Pass Rate\"]]\n",
    "\n",
    "topoverall_sizegroups = topoverall_size.groupby(\"Per School Size Summary\").mean()\n",
    "\n",
    "topoverall_sizegroups"
   ]
  },
  {
   "cell_type": "code",
   "execution_count": 19,
   "metadata": {
    "scrolled": true
   },
   "outputs": [
    {
     "data": {
      "text/html": [
       "<div>\n",
       "<style scoped>\n",
       "    .dataframe tbody tr th:only-of-type {\n",
       "        vertical-align: middle;\n",
       "    }\n",
       "\n",
       "    .dataframe tbody tr th {\n",
       "        vertical-align: top;\n",
       "    }\n",
       "\n",
       "    .dataframe thead th {\n",
       "        text-align: right;\n",
       "    }\n",
       "</style>\n",
       "<table border=\"1\" class=\"dataframe\">\n",
       "  <thead>\n",
       "    <tr style=\"text-align: right;\">\n",
       "      <th></th>\n",
       "      <th>Average Math Score</th>\n",
       "      <th>Average Reading Score</th>\n",
       "      <th>% Passing Math</th>\n",
       "      <th>% Passing Reading</th>\n",
       "      <th>% Overall Passing Rate</th>\n",
       "    </tr>\n",
       "    <tr>\n",
       "      <th>School Size</th>\n",
       "      <th></th>\n",
       "      <th></th>\n",
       "      <th></th>\n",
       "      <th></th>\n",
       "      <th></th>\n",
       "    </tr>\n",
       "  </thead>\n",
       "  <tbody>\n",
       "    <tr>\n",
       "      <th>Small (&lt;1000)</th>\n",
       "      <td>83.821598</td>\n",
       "      <td>83.929843</td>\n",
       "      <td>93.550225</td>\n",
       "      <td>96.099437</td>\n",
       "      <td>94.824831</td>\n",
       "    </tr>\n",
       "    <tr>\n",
       "      <th>Medium (1000-2000)</th>\n",
       "      <td>83.374684</td>\n",
       "      <td>83.864438</td>\n",
       "      <td>93.599695</td>\n",
       "      <td>96.790680</td>\n",
       "      <td>95.195187</td>\n",
       "    </tr>\n",
       "    <tr>\n",
       "      <th>Large (2000-5000)</th>\n",
       "      <td>77.746417</td>\n",
       "      <td>81.344493</td>\n",
       "      <td>69.963361</td>\n",
       "      <td>82.766634</td>\n",
       "      <td>76.364998</td>\n",
       "    </tr>\n",
       "  </tbody>\n",
       "</table>\n",
       "</div>"
      ],
      "text/plain": [
       "                    Average Math Score  Average Reading Score  % Passing Math  \\\n",
       "School Size                                                                     \n",
       "Small (<1000)                83.821598              83.929843       93.550225   \n",
       "Medium (1000-2000)           83.374684              83.864438       93.599695   \n",
       "Large (2000-5000)            77.746417              81.344493       69.963361   \n",
       "\n",
       "                    % Passing Reading  % Overall Passing Rate  \n",
       "School Size                                                    \n",
       "Small (<1000)               96.099437               94.824831  \n",
       "Medium (1000-2000)          96.790680               95.195187  \n",
       "Large (2000-5000)           82.766634               76.364998  "
      ]
     },
     "execution_count": 19,
     "metadata": {},
     "output_type": "execute_result"
    }
   ],
   "source": []
  },
  {
   "cell_type": "markdown",
   "metadata": {},
   "source": [
    "## Scores by School Type"
   ]
  },
  {
   "cell_type": "markdown",
   "metadata": {},
   "source": [
    "* Perform the same operations as above, based on school type."
   ]
  },
  {
   "cell_type": "code",
   "execution_count": 20,
   "metadata": {},
   "outputs": [
    {
     "data": {
      "text/html": [
       "<div>\n",
       "<style scoped>\n",
       "    .dataframe tbody tr th:only-of-type {\n",
       "        vertical-align: middle;\n",
       "    }\n",
       "\n",
       "    .dataframe tbody tr th {\n",
       "        vertical-align: top;\n",
       "    }\n",
       "\n",
       "    .dataframe thead th {\n",
       "        text-align: right;\n",
       "    }\n",
       "</style>\n",
       "<table border=\"1\" class=\"dataframe\">\n",
       "  <thead>\n",
       "    <tr style=\"text-align: right;\">\n",
       "      <th></th>\n",
       "      <th>Average Math Score</th>\n",
       "      <th>Average Reading Score</th>\n",
       "      <th>% Passing Math</th>\n",
       "      <th>% Passing Reading</th>\n",
       "      <th>% Overall Passing Rate</th>\n",
       "    </tr>\n",
       "    <tr>\n",
       "      <th>School Type</th>\n",
       "      <th></th>\n",
       "      <th></th>\n",
       "      <th></th>\n",
       "      <th></th>\n",
       "      <th></th>\n",
       "    </tr>\n",
       "  </thead>\n",
       "  <tbody>\n",
       "    <tr>\n",
       "      <th>Charter</th>\n",
       "      <td>83.473852</td>\n",
       "      <td>83.896421</td>\n",
       "      <td>93.620830</td>\n",
       "      <td>96.586489</td>\n",
       "      <td>95.103660</td>\n",
       "    </tr>\n",
       "    <tr>\n",
       "      <th>District</th>\n",
       "      <td>76.956733</td>\n",
       "      <td>80.966636</td>\n",
       "      <td>66.548453</td>\n",
       "      <td>80.799062</td>\n",
       "      <td>73.673757</td>\n",
       "    </tr>\n",
       "  </tbody>\n",
       "</table>\n",
       "</div>"
      ],
      "text/plain": [
       "             Average Math Score  Average Reading Score  % Passing Math  \\\n",
       "School Type                                                              \n",
       "Charter               83.473852              83.896421       93.620830   \n",
       "District              76.956733              80.966636       66.548453   \n",
       "\n",
       "             % Passing Reading  % Overall Passing Rate  \n",
       "School Type                                             \n",
       "Charter              96.586489               95.103660  \n",
       "District             80.799062               73.673757  "
      ]
     },
     "execution_count": 20,
     "metadata": {},
     "output_type": "execute_result"
    }
   ],
   "source": [
    "\n"
   ]
  },
  {
   "cell_type": "code",
   "execution_count": 548,
   "metadata": {},
   "outputs": [
    {
     "data": {
      "text/html": "<div>\n<style scoped>\n    .dataframe tbody tr th:only-of-type {\n        vertical-align: middle;\n    }\n\n    .dataframe tbody tr th {\n        vertical-align: top;\n    }\n\n    .dataframe thead th {\n        text-align: right;\n    }\n</style>\n<table border=\"1\" class=\"dataframe\">\n  <thead>\n    <tr style=\"text-align: right;\">\n      <th></th>\n      <th>avg math score</th>\n      <th>avg reading score</th>\n      <th>Math Pass Rate</th>\n      <th>Reading Pass Rate</th>\n      <th>Overall Pass Rate</th>\n    </tr>\n    <tr>\n      <th>type</th>\n      <th></th>\n      <th></th>\n      <th></th>\n      <th></th>\n      <th></th>\n    </tr>\n  </thead>\n  <tbody>\n    <tr>\n      <td>Charter</td>\n      <td>83.473852</td>\n      <td>83.896421</td>\n      <td>0.936208</td>\n      <td>0.965865</td>\n      <td>0.951037</td>\n    </tr>\n    <tr>\n      <td>District</td>\n      <td>76.956733</td>\n      <td>80.966636</td>\n      <td>0.665485</td>\n      <td>0.807991</td>\n      <td>0.736738</td>\n    </tr>\n  </tbody>\n</table>\n</div>",
      "text/plain": "          avg math score  avg reading score  Math Pass Rate  \\\ntype                                                          \nCharter        83.473852          83.896421        0.936208   \nDistrict       76.956733          80.966636        0.665485   \n\n          Reading Pass Rate  Overall Pass Rate  \ntype                                            \nCharter            0.965865           0.951037  \nDistrict           0.807991           0.736738  "
     },
     "execution_count": 548,
     "metadata": {},
     "output_type": "execute_result"
    }
   ],
   "source": [
    "# Sample bins. Feel free to create your own bins.\n",
    "topoverall_type = topoverall.groupby(\"type\").mean()\n",
    "\n",
    "\n",
    "topoverall_type_df = topoverall_type[[\"avg math score\",\"avg reading score\",\"Math Pass Rate\",\"Reading Pass Rate\",\"Overall Pass Rate\"]]\n",
    "\n",
    "topoverall_type_df"
   ]
  },
  {
   "cell_type": "code",
   "execution_count": null,
   "metadata": {},
   "outputs": [],
   "source": []
  }
 ],
 "metadata": {
  "anaconda-cloud": {},
  "kernel_info": {
   "name": "python3"
  },
  "kernelspec": {
   "display_name": "Python 3",
   "language": "python",
   "name": "python3"
  },
  "language_info": {
   "codemirror_mode": {
    "name": "ipython",
    "version": 3
   },
   "file_extension": ".py",
   "mimetype": "text/x-python",
   "name": "python",
   "nbconvert_exporter": "python",
   "pygments_lexer": "ipython3",
   "version": "3.7.4-final"
  },
  "latex_envs": {
   "LaTeX_envs_menu_present": true,
   "autoclose": false,
   "autocomplete": true,
   "bibliofile": "biblio.bib",
   "cite_by": "apalike",
   "current_citInitial": 1,
   "eqLabelWithNumbers": true,
   "eqNumInitial": 1,
   "hotkeys": {
    "equation": "Ctrl-E",
    "itemize": "Ctrl-I"
   },
   "labels_anchors": false,
   "latex_user_defs": false,
   "report_style_numbering": false,
   "user_envs_cfg": false
  },
  "nteract": {
   "version": "0.8.4"
  }
 },
 "nbformat": 4,
 "nbformat_minor": 1
}